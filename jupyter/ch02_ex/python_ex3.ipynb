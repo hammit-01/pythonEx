{
 "cells": [
  {
   "cell_type": "markdown",
   "id": "e2035870-3fd4-48ad-a949-4a96bac04df0",
   "metadata": {},
   "source": [
    "# part 2 chapter 3"
   ]
  },
  {
   "cell_type": "markdown",
   "id": "fd50c069-02a5-4a06-b102-d89b17c15812",
   "metadata": {},
   "source": [
    "## 이진분류 평가지표"
   ]
  },
  {
   "cell_type": "code",
   "execution_count": 1,
   "id": "6dadb910-206c-4b52-ae11-7534d722b25a",
   "metadata": {},
   "outputs": [],
   "source": [
    "import pandas as pd\n",
    "y_true = pd.DataFrame([1,1,1,0,0,1,1,1,1,0])\n",
    "y_pred = pd.DataFrame([1,0,1,1,0,0,0,1,1,0])\n",
    "\n",
    "y_true_str = pd.DataFrame(['A','A','A','B','B','A','A','A','A','B'])\n",
    "y_pred_str = pd.DataFrame(['A','B','A','A','B','B','B','A','A','B'])"
   ]
  },
  {
   "cell_type": "code",
   "execution_count": 3,
   "id": "88489027-1b86-41d9-9275-53bf92ed0bfb",
   "metadata": {},
   "outputs": [
    {
     "name": "stdout",
     "output_type": "stream",
     "text": [
      "정확도: 0.6\n",
      "정확도: 0.6\n"
     ]
    }
   ],
   "source": [
    "# 정확도: 1에 가까울수록 좋음\n",
    "from sklearn.metrics import accuracy_score\n",
    "accuracy = accuracy_score(y_true, y_pred)\n",
    "print('정확도:', accuracy)\n",
    "\n",
    "accuracy = accuracy_score(y_true_str, y_pred_str)\n",
    "print('정확도:' , accuracy)"
   ]
  },
  {
   "cell_type": "code",
   "execution_count": 6,
   "id": "edb849be-3f1d-4059-ad1b-5d3a0f49bf26",
   "metadata": {},
   "outputs": [
    {
     "name": "stdout",
     "output_type": "stream",
     "text": [
      "정밀도: 0.8\n",
      "정밀도: 0.8\n"
     ]
    }
   ],
   "source": [
    "# 정밀도: 1에 가까울수록 좋음\n",
    "from sklearn.metrics import precision_score\n",
    "precision = precision_score(y_true, y_pred)\n",
    "print('정밀도:', precision)\n",
    "\n",
    "precision = precision_score(y_true_str, y_pred_str, pos_label='A')\n",
    "print('정밀도:', precision)"
   ]
  },
  {
   "cell_type": "code",
   "execution_count": 7,
   "id": "7102999b-181d-4c43-ba20-6b337d83e81a",
   "metadata": {},
   "outputs": [
    {
     "name": "stdout",
     "output_type": "stream",
     "text": [
      "재현율: 0.5714285714285714\n",
      "재현율: 0.5714285714285714\n"
     ]
    }
   ],
   "source": [
    "# 재현율: 1에 가까울수록 좋음\n",
    "from sklearn.metrics import recall_score\n",
    "recall = recall_score(y_true, y_pred)\n",
    "print('재현율:', recall)\n",
    "\n",
    "recall = recall_score(y_true_str, y_pred_str, pos_label='A')\n",
    "print('재현율:', recall)"
   ]
  },
  {
   "cell_type": "code",
   "execution_count": 8,
   "id": "5172ac45-c87c-423f-becd-73e60f94fcff",
   "metadata": {},
   "outputs": [
    {
     "name": "stdout",
     "output_type": "stream",
     "text": [
      "f1_score: 0.6666666666666666\n",
      "f1_score: 0.6666666666666666\n"
     ]
    }
   ],
   "source": [
    "# F1-Score\n",
    "from sklearn.metrics import f1_score\n",
    "f1 = f1_score(y_true, y_pred)\n",
    "print('f1_score:', f1)\n",
    "\n",
    "f1 = f1_score(y_true_str, y_pred_str, pos_label='A')\n",
    "print('f1_score:', f1)"
   ]
  },
  {
   "cell_type": "code",
   "execution_count": 13,
   "id": "593dd391-02e4-460c-990f-04f8969b1187",
   "metadata": {},
   "outputs": [
    {
     "name": "stdout",
     "output_type": "stream",
     "text": [
      "roc_auc_score: 0.86\n",
      "roc_auc_score: 0.86\n"
     ]
    }
   ],
   "source": [
    "# ROC-AUC\n",
    "from sklearn.metrics import roc_auc_score\n",
    "# 실제값\n",
    "y_true = pd.DataFrame([0,1,0,1,1,0,0,0,1,1])\n",
    "# 예측값 중 1일 확률\n",
    "y_pred_proba = pd.DataFrame([0.4,0.9,0.1,0.3,0.8,0.6,0.4,0.2,0.7,0.6])\n",
    "\n",
    "roc_auc = roc_auc_score(y_true, y_pred_proba)\n",
    "print('roc_auc_score:', roc_auc)\n",
    "\n",
    "# 실제값\n",
    "y_true_str = pd.DataFrame(['A','B','A','B','B','A','A','A','B','B'])\n",
    "# 예측값 중 A일 확률\n",
    "y_pred_proba_str = pd.DataFrame([0.4,0.9,0.1,0.3,0.8,0.6,0.4,0.2,0.7,0.6])\n",
    "\n",
    "roc_auc = roc_auc_score(y_true_str, y_pred_proba_str)\n",
    "print('roc_auc_score:', roc_auc)"
   ]
  },
  {
   "cell_type": "markdown",
   "id": "118ce391-a0d4-4972-ae2b-3aa48bf96a59",
   "metadata": {},
   "source": [
    "## 다중분류 평가지표"
   ]
  },
  {
   "cell_type": "code",
   "execution_count": 14,
   "id": "d75be536-6951-40cd-853b-ce440a38af61",
   "metadata": {},
   "outputs": [],
   "source": [
    "y_true = pd.DataFrame([1,2,3,3,2,1,3,3,2,1])\n",
    "y_pred = pd.DataFrame([1,2,1,3,2,1,1,2,2,1])\n",
    "\n",
    "y_true_str = pd.DataFrame(['A','B','C','C','B','A','C','C','B','A'])\n",
    "y_pred_str = pd.DataFrame(['A','B','A','C','B','A','A','B','B','A'])"
   ]
  },
  {
   "cell_type": "code",
   "execution_count": 15,
   "id": "6d2d9d85-ef0f-4324-9169-b3caa3c56ae8",
   "metadata": {},
   "outputs": [
    {
     "name": "stdout",
     "output_type": "stream",
     "text": [
      "accuracy: 0.7\n",
      "accuracy: 0.7\n"
     ]
    }
   ],
   "source": [
    "# 정확도\n",
    "from sklearn.metrics import accuracy_score\n",
    "accuracy = accuracy_score(y_true, y_pred)\n",
    "print('accuracy:', accuracy)\n",
    "\n",
    "accuracy = accuracy_score(y_true_str, y_pred_str)\n",
    "print('accuracy:', accuracy)"
   ]
  },
  {
   "cell_type": "code",
   "execution_count": 17,
   "id": "de54d647-3c8a-413f-bf4e-9c0007fc9c37",
   "metadata": {},
   "outputs": [
    {
     "name": "stdout",
     "output_type": "stream",
     "text": [
      "precision_score: 0.7833333333333333\n",
      "precision_score: 0.7833333333333333\n"
     ]
    }
   ],
   "source": [
    "# 정밀도\n",
    "from sklearn.metrics import precision_score\n",
    "# average = micro, macro, weighted\n",
    "precision = precision_score(y_true, y_pred, average = 'macro')\n",
    "print('precision_score:', precision)\n",
    "\n",
    "precision = precision_score(y_true_str, y_pred_str, average = 'macro')\n",
    "print('precision_score:', precision)"
   ]
  },
  {
   "cell_type": "code",
   "execution_count": 18,
   "id": "31f0e8c8-c5ec-4450-ab49-3eb09814c6d2",
   "metadata": {},
   "outputs": [
    {
     "name": "stdout",
     "output_type": "stream",
     "text": [
      "recall_score: 0.75\n",
      "recall_score: 0.75\n"
     ]
    }
   ],
   "source": [
    "# 재현율\n",
    "from sklearn.metrics import recall_score\n",
    "recall = recall_score(y_true, y_pred, average = 'macro')\n",
    "print('recall_score:', recall)\n",
    "\n",
    "recall = recall_score(y_true_str, y_pred_str, average = 'macro')\n",
    "print('recall_score:', recall)"
   ]
  },
  {
   "cell_type": "code",
   "execution_count": 19,
   "id": "aa5815b4-2737-4f9f-a486-0063c3480b85",
   "metadata": {},
   "outputs": [
    {
     "name": "stdout",
     "output_type": "stream",
     "text": [
      "f1_score: 0.669047619047619\n",
      "f1_score: 0.669047619047619\n"
     ]
    }
   ],
   "source": [
    "# F1-Score\n",
    "from sklearn.metrics import f1_score\n",
    "f1 = f1_score(y_true, y_pred, average = 'macro')\n",
    "print('f1_score:', f1)\n",
    "\n",
    "f1 = f1_score(y_true_str, y_pred_str, average = 'macro')\n",
    "print('f1_score:', f1)"
   ]
  },
  {
   "cell_type": "markdown",
   "id": "c489f34e-17e5-4545-95a4-0a24080488c8",
   "metadata": {},
   "source": [
    "## 회귀 평가지표"
   ]
  },
  {
   "cell_type": "code",
   "execution_count": 20,
   "id": "0ec6aa93-b581-4911-b295-6e6565bbacd9",
   "metadata": {},
   "outputs": [],
   "source": [
    "import pandas as pd\n",
    "y_true = pd.DataFrame([1,2,5,2,4,4,7,9])\n",
    "y_pred = pd.DataFrame([1.14,2.53,4.87,3.08,4.21,5.53,7.51,10.32])"
   ]
  },
  {
   "cell_type": "code",
   "execution_count": 21,
   "id": "cff0cc71-abb1-4f14-b056-7e043c2e1bc7",
   "metadata": {},
   "outputs": [
    {
     "name": "stdout",
     "output_type": "stream",
     "text": [
      "mean_squared_eroor: 0.7339125000000001\n"
     ]
    }
   ],
   "source": [
    "# MSE\n",
    "from sklearn.metrics import mean_squared_error\n",
    "mse = mean_squared_error(y_true, y_pred)\n",
    "print('mean_squared_eroor:', mse)"
   ]
  },
  {
   "cell_type": "code",
   "execution_count": 22,
   "id": "de7ab253-837b-4cab-a596-d85b9e01fc34",
   "metadata": {},
   "outputs": [
    {
     "name": "stdout",
     "output_type": "stream",
     "text": [
      "mean_absolute_error: 0.68125\n"
     ]
    }
   ],
   "source": [
    "# MAE\n",
    "from sklearn.metrics import mean_absolute_error\n",
    "mae = mean_absolute_error(y_true, y_pred)\n",
    "print('mean_absolute_error:', mae)"
   ]
  },
  {
   "cell_type": "code",
   "execution_count": 23,
   "id": "d12178a1-b4c0-4fd4-9033-aecdb40fdfae",
   "metadata": {},
   "outputs": [
    {
     "name": "stdout",
     "output_type": "stream",
     "text": [
      "r-squared: 0.8859941747572815\n"
     ]
    }
   ],
   "source": [
    "# R-squared: 1에 가까울수록 좋음\n",
    "from sklearn.metrics import r2_score\n",
    "r2 = r2_score(y_true, y_pred)\n",
    "print('r-squared:', r2)"
   ]
  },
  {
   "cell_type": "code",
   "execution_count": 29,
   "id": "2b79901c-2030-4e12-8c24-059dd944c83d",
   "metadata": {},
   "outputs": [
    {
     "name": "stdout",
     "output_type": "stream",
     "text": [
      "root_mean_squared_error: 0.8566869323154171\n"
     ]
    }
   ],
   "source": [
    "# RMSE\n",
    "from sklearn.metrics import mean_squared_error\n",
    "mse = mean_squared_error(y_true, y_pred)\n",
    "rmse = mse**0.5\n",
    "print('root_mean_squared_error:', rmse)"
   ]
  },
  {
   "cell_type": "code",
   "execution_count": 26,
   "id": "9e87da77-0634-4992-8b98-be7b1991e729",
   "metadata": {},
   "outputs": [
    {
     "name": "stdout",
     "output_type": "stream",
     "text": [
      "mean_squared_log_error: 0.027278486182156947\n"
     ]
    }
   ],
   "source": [
    "# MSLE\n",
    "from sklearn.metrics import mean_squared_log_error\n",
    "msle = mean_squared_log_error(y_true, y_pred)\n",
    "print('mean_squared_log_error:', msle)"
   ]
  },
  {
   "cell_type": "code",
   "execution_count": 28,
   "id": "856ac81b-0b20-405a-a569-9cae205e85c1",
   "metadata": {},
   "outputs": [
    {
     "name": "stdout",
     "output_type": "stream",
     "text": [
      "root_mean_squared_log_error: 0.16516199981278062\n"
     ]
    }
   ],
   "source": [
    "# RMSLE\n",
    "from sklearn.metrics import mean_squared_log_error\n",
    "rmsle = mean_squared_log_error(y_true, y_pred) ** 0.5\n",
    "print('root_mean_squared_log_error:', rmsle)"
   ]
  },
  {
   "cell_type": "code",
   "execution_count": 30,
   "id": "0ed650e7-e45e-4ca9-8fca-3bf19a54f190",
   "metadata": {},
   "outputs": [
    {
     "name": "stdout",
     "output_type": "stream",
     "text": [
      "mean_absolute_percentage_error: 0    20.319048\n",
      "dtype: float64\n"
     ]
    }
   ],
   "source": [
    "# MAPE\n",
    "mape = (abs((y_true - y_pred)/y_true)).mean()*100\n",
    "print('mean_absolute_percentage_error:', mape)"
   ]
  },
  {
   "cell_type": "code",
   "execution_count": null,
   "id": "7274d369-c74c-4371-ae26-b1a8ddfc073a",
   "metadata": {},
   "outputs": [],
   "source": []
  }
 ],
 "metadata": {
  "kernelspec": {
   "display_name": "Python 3 (ipykernel)",
   "language": "python",
   "name": "python3"
  },
  "language_info": {
   "codemirror_mode": {
    "name": "ipython",
    "version": 3
   },
   "file_extension": ".py",
   "mimetype": "text/x-python",
   "name": "python",
   "nbconvert_exporter": "python",
   "pygments_lexer": "ipython3",
   "version": "3.13.2"
  }
 },
 "nbformat": 4,
 "nbformat_minor": 5
}
