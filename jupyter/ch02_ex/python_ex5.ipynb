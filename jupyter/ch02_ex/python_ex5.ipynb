{
 "cells": [
  {
   "cell_type": "markdown",
   "id": "7b34e256-da7d-46ee-a99d-065f20b15811",
   "metadata": {},
   "source": [
    "# part 2 chapter 5"
   ]
  },
  {
   "cell_type": "markdown",
   "id": "c5ea8569-2946-4be4-9250-69b1a4cfb356",
   "metadata": {},
   "source": [
    "## 머신러닝 다중 분류 실습"
   ]
  },
  {
   "cell_type": "code",
   "execution_count": 2,
   "id": "0d2266c2-27bc-4d4a-af63-0f96571a5cc8",
   "metadata": {},
   "outputs": [],
   "source": [
    "import pandas as pd\n",
    "train = pd.read_csv(\"http://raw.githubusercontent.com/lovedlim/bigdata_analyst_cert/main/part2/ch5/train.csv\")\n",
    "test = pd.read_csv(\"http://raw.githubusercontent.com/lovedlim/bigdata_analyst_cert/main/part2/ch5/test.csv\")"
   ]
  },
  {
   "cell_type": "markdown",
   "id": "5c59f0fa-fb73-46f0-9fe4-1e6b962586d0",
   "metadata": {},
   "source": [
    "### EDA"
   ]
  },
  {
   "cell_type": "code",
   "execution_count": 3,
   "id": "20ec4819-591a-4343-a88f-79741634718c",
   "metadata": {},
   "outputs": [
    {
     "data": {
      "text/plain": [
       "((10000, 21), (10000, 20))"
      ]
     },
     "execution_count": 3,
     "metadata": {},
     "output_type": "execute_result"
    }
   ],
   "source": [
    "train.shape, test.shape"
   ]
  },
  {
   "cell_type": "code",
   "execution_count": 4,
   "id": "49ffab1a-b905-43d7-97c9-046409390887",
   "metadata": {},
   "outputs": [
    {
     "name": "stdout",
     "output_type": "stream",
     "text": [
      "<class 'pandas.core.frame.DataFrame'>\n",
      "RangeIndex: 10000 entries, 0 to 9999\n",
      "Data columns (total 21 columns):\n",
      " #   Column                    Non-Null Count  Dtype  \n",
      "---  ------                    --------------  -----  \n",
      " 0   Delay_from_due_date       10000 non-null  float64\n",
      " 1   Num_of_Delayed_Payment    10000 non-null  float64\n",
      " 2   Num_Credit_Inquiries      10000 non-null  float64\n",
      " 3   Credit_Utilization_Ratio  10000 non-null  float64\n",
      " 4   Credit_History_Age        10000 non-null  float64\n",
      " 5   Payment_of_Min_Amount     10000 non-null  object \n",
      " 6   Amount_invested_monthly   10000 non-null  float64\n",
      " 7   Monthly_Balance           10000 non-null  float64\n",
      " 8   Credit_Score              10000 non-null  int64  \n",
      " 9   Credit_Mix                10000 non-null  object \n",
      " 10  Payment_Behaviour         10000 non-null  object \n",
      " 11  Age                       10000 non-null  float64\n",
      " 12  Annual_Income             10000 non-null  float64\n",
      " 13  Num_Bank_Accounts         10000 non-null  float64\n",
      " 14  Num_Credit_Card           10000 non-null  float64\n",
      " 15  Interest_Rate             10000 non-null  float64\n",
      " 16  Num_of_Loan               10000 non-null  float64\n",
      " 17  Monthly_Inhand_Salary     10000 non-null  float64\n",
      " 18  Changed_Credit_Limit      10000 non-null  float64\n",
      " 19  Outstanding_Debt          10000 non-null  float64\n",
      " 20  Total_EMI_per_month       10000 non-null  float64\n",
      "dtypes: float64(17), int64(1), object(3)\n",
      "memory usage: 1.6+ MB\n",
      "<class 'pandas.core.frame.DataFrame'>\n",
      "RangeIndex: 10000 entries, 0 to 9999\n",
      "Data columns (total 20 columns):\n",
      " #   Column                    Non-Null Count  Dtype  \n",
      "---  ------                    --------------  -----  \n",
      " 0   Delay_from_due_date       10000 non-null  float64\n",
      " 1   Num_of_Delayed_Payment    10000 non-null  float64\n",
      " 2   Num_Credit_Inquiries      10000 non-null  float64\n",
      " 3   Credit_Utilization_Ratio  10000 non-null  float64\n",
      " 4   Credit_History_Age        10000 non-null  float64\n",
      " 5   Payment_of_Min_Amount     10000 non-null  object \n",
      " 6   Amount_invested_monthly   10000 non-null  float64\n",
      " 7   Monthly_Balance           10000 non-null  float64\n",
      " 8   Credit_Mix                10000 non-null  object \n",
      " 9   Payment_Behaviour         10000 non-null  object \n",
      " 10  Age                       10000 non-null  float64\n",
      " 11  Annual_Income             10000 non-null  float64\n",
      " 12  Num_Bank_Accounts         10000 non-null  float64\n",
      " 13  Num_Credit_Card           10000 non-null  float64\n",
      " 14  Interest_Rate             10000 non-null  float64\n",
      " 15  Num_of_Loan               10000 non-null  float64\n",
      " 16  Monthly_Inhand_Salary     10000 non-null  float64\n",
      " 17  Changed_Credit_Limit      10000 non-null  float64\n",
      " 18  Outstanding_Debt          10000 non-null  float64\n",
      " 19  Total_EMI_per_month       10000 non-null  float64\n",
      "dtypes: float64(17), object(3)\n",
      "memory usage: 1.5+ MB\n"
     ]
    },
    {
     "data": {
      "text/plain": [
       "(None, None)"
      ]
     },
     "execution_count": 4,
     "metadata": {},
     "output_type": "execute_result"
    }
   ],
   "source": [
    "train.info(), test.info()"
   ]
  },
  {
   "cell_type": "code",
   "execution_count": 5,
   "id": "27b6b3f1-18a9-4893-8fa6-cbd3893341a6",
   "metadata": {},
   "outputs": [
    {
     "data": {
      "text/html": [
       "<div>\n",
       "<style scoped>\n",
       "    .dataframe tbody tr th:only-of-type {\n",
       "        vertical-align: middle;\n",
       "    }\n",
       "\n",
       "    .dataframe tbody tr th {\n",
       "        vertical-align: top;\n",
       "    }\n",
       "\n",
       "    .dataframe thead th {\n",
       "        text-align: right;\n",
       "    }\n",
       "</style>\n",
       "<table border=\"1\" class=\"dataframe\">\n",
       "  <thead>\n",
       "    <tr style=\"text-align: right;\">\n",
       "      <th></th>\n",
       "      <th>Payment_of_Min_Amount</th>\n",
       "      <th>Credit_Mix</th>\n",
       "      <th>Payment_Behaviour</th>\n",
       "    </tr>\n",
       "  </thead>\n",
       "  <tbody>\n",
       "    <tr>\n",
       "      <th>count</th>\n",
       "      <td>10000</td>\n",
       "      <td>10000</td>\n",
       "      <td>10000</td>\n",
       "    </tr>\n",
       "    <tr>\n",
       "      <th>unique</th>\n",
       "      <td>3</td>\n",
       "      <td>3</td>\n",
       "      <td>6</td>\n",
       "    </tr>\n",
       "    <tr>\n",
       "      <th>top</th>\n",
       "      <td>Yes</td>\n",
       "      <td>Standard</td>\n",
       "      <td>Low_spent_Small_value_payments</td>\n",
       "    </tr>\n",
       "    <tr>\n",
       "      <th>freq</th>\n",
       "      <td>5167</td>\n",
       "      <td>4590</td>\n",
       "      <td>3498</td>\n",
       "    </tr>\n",
       "  </tbody>\n",
       "</table>\n",
       "</div>"
      ],
      "text/plain": [
       "       Payment_of_Min_Amount Credit_Mix               Payment_Behaviour\n",
       "count                  10000      10000                           10000\n",
       "unique                     3          3                               6\n",
       "top                      Yes   Standard  Low_spent_Small_value_payments\n",
       "freq                    5167       4590                            3498"
      ]
     },
     "execution_count": 5,
     "metadata": {},
     "output_type": "execute_result"
    }
   ],
   "source": [
    "train.describe(include='O')\n",
    "test.describe(include='O')"
   ]
  },
  {
   "cell_type": "code",
   "execution_count": 6,
   "id": "fd3dfcc9-c9dc-464e-94e4-78ac985a92d7",
   "metadata": {},
   "outputs": [
    {
     "data": {
      "text/plain": [
       "(Delay_from_due_date         0\n",
       " Num_of_Delayed_Payment      0\n",
       " Num_Credit_Inquiries        0\n",
       " Credit_Utilization_Ratio    0\n",
       " Credit_History_Age          0\n",
       " Payment_of_Min_Amount       0\n",
       " Amount_invested_monthly     0\n",
       " Monthly_Balance             0\n",
       " Credit_Score                0\n",
       " Credit_Mix                  0\n",
       " Payment_Behaviour           0\n",
       " Age                         0\n",
       " Annual_Income               0\n",
       " Num_Bank_Accounts           0\n",
       " Num_Credit_Card             0\n",
       " Interest_Rate               0\n",
       " Num_of_Loan                 0\n",
       " Monthly_Inhand_Salary       0\n",
       " Changed_Credit_Limit        0\n",
       " Outstanding_Debt            0\n",
       " Total_EMI_per_month         0\n",
       " dtype: int64,\n",
       " Delay_from_due_date         0\n",
       " Num_of_Delayed_Payment      0\n",
       " Num_Credit_Inquiries        0\n",
       " Credit_Utilization_Ratio    0\n",
       " Credit_History_Age          0\n",
       " Payment_of_Min_Amount       0\n",
       " Amount_invested_monthly     0\n",
       " Monthly_Balance             0\n",
       " Credit_Mix                  0\n",
       " Payment_Behaviour           0\n",
       " Age                         0\n",
       " Annual_Income               0\n",
       " Num_Bank_Accounts           0\n",
       " Num_Credit_Card             0\n",
       " Interest_Rate               0\n",
       " Num_of_Loan                 0\n",
       " Monthly_Inhand_Salary       0\n",
       " Changed_Credit_Limit        0\n",
       " Outstanding_Debt            0\n",
       " Total_EMI_per_month         0\n",
       " dtype: int64)"
      ]
     },
     "execution_count": 6,
     "metadata": {},
     "output_type": "execute_result"
    }
   ],
   "source": [
    "train.isnull().sum(), test.isnull().sum()"
   ]
  },
  {
   "cell_type": "code",
   "execution_count": 7,
   "id": "f8d6ce6f-ed94-4cdd-9b02-ae4b019793b4",
   "metadata": {},
   "outputs": [
    {
     "data": {
      "text/html": [
       "<div>\n",
       "<style scoped>\n",
       "    .dataframe tbody tr th:only-of-type {\n",
       "        vertical-align: middle;\n",
       "    }\n",
       "\n",
       "    .dataframe tbody tr th {\n",
       "        vertical-align: top;\n",
       "    }\n",
       "\n",
       "    .dataframe thead th {\n",
       "        text-align: right;\n",
       "    }\n",
       "</style>\n",
       "<table border=\"1\" class=\"dataframe\">\n",
       "  <thead>\n",
       "    <tr style=\"text-align: right;\">\n",
       "      <th></th>\n",
       "      <th>Delay_from_due_date</th>\n",
       "      <th>Num_of_Delayed_Payment</th>\n",
       "      <th>Num_Credit_Inquiries</th>\n",
       "      <th>Credit_Utilization_Ratio</th>\n",
       "      <th>Credit_History_Age</th>\n",
       "      <th>Payment_of_Min_Amount</th>\n",
       "      <th>Amount_invested_monthly</th>\n",
       "      <th>Monthly_Balance</th>\n",
       "      <th>Credit_Score</th>\n",
       "      <th>Credit_Mix</th>\n",
       "      <th>...</th>\n",
       "      <th>Age</th>\n",
       "      <th>Annual_Income</th>\n",
       "      <th>Num_Bank_Accounts</th>\n",
       "      <th>Num_Credit_Card</th>\n",
       "      <th>Interest_Rate</th>\n",
       "      <th>Num_of_Loan</th>\n",
       "      <th>Monthly_Inhand_Salary</th>\n",
       "      <th>Changed_Credit_Limit</th>\n",
       "      <th>Outstanding_Debt</th>\n",
       "      <th>Total_EMI_per_month</th>\n",
       "    </tr>\n",
       "  </thead>\n",
       "  <tbody>\n",
       "    <tr>\n",
       "      <th>0</th>\n",
       "      <td>56.0</td>\n",
       "      <td>16.0</td>\n",
       "      <td>11.0</td>\n",
       "      <td>35.598217</td>\n",
       "      <td>120.0</td>\n",
       "      <td>Yes</td>\n",
       "      <td>229.093478</td>\n",
       "      <td>252.385965</td>\n",
       "      <td>1</td>\n",
       "      <td>Bad</td>\n",
       "      <td>...</td>\n",
       "      <td>15.0</td>\n",
       "      <td>36597.56</td>\n",
       "      <td>8.0</td>\n",
       "      <td>10.0</td>\n",
       "      <td>29.0</td>\n",
       "      <td>5.0</td>\n",
       "      <td>3143.796667</td>\n",
       "      <td>22.49</td>\n",
       "      <td>2963.18</td>\n",
       "      <td>122.900223</td>\n",
       "    </tr>\n",
       "    <tr>\n",
       "      <th>1</th>\n",
       "      <td>49.0</td>\n",
       "      <td>23.0</td>\n",
       "      <td>12.0</td>\n",
       "      <td>25.553106</td>\n",
       "      <td>120.0</td>\n",
       "      <td>Yes</td>\n",
       "      <td>104.613906</td>\n",
       "      <td>219.105944</td>\n",
       "      <td>1</td>\n",
       "      <td>Bad</td>\n",
       "      <td>...</td>\n",
       "      <td>28.0</td>\n",
       "      <td>32057.30</td>\n",
       "      <td>9.0</td>\n",
       "      <td>8.0</td>\n",
       "      <td>16.0</td>\n",
       "      <td>7.0</td>\n",
       "      <td>2606.441667</td>\n",
       "      <td>1.40</td>\n",
       "      <td>1327.26</td>\n",
       "      <td>164.859426</td>\n",
       "    </tr>\n",
       "    <tr>\n",
       "      <th>2</th>\n",
       "      <td>34.0</td>\n",
       "      <td>20.0</td>\n",
       "      <td>6.0</td>\n",
       "      <td>40.039954</td>\n",
       "      <td>174.0</td>\n",
       "      <td>Yes</td>\n",
       "      <td>338.626965</td>\n",
       "      <td>251.265589</td>\n",
       "      <td>1</td>\n",
       "      <td>Bad</td>\n",
       "      <td>...</td>\n",
       "      <td>46.0</td>\n",
       "      <td>75868.80</td>\n",
       "      <td>6.0</td>\n",
       "      <td>10.0</td>\n",
       "      <td>32.0</td>\n",
       "      <td>7.0</td>\n",
       "      <td>6074.400000</td>\n",
       "      <td>3.60</td>\n",
       "      <td>1432.71</td>\n",
       "      <td>297.547446</td>\n",
       "    </tr>\n",
       "    <tr>\n",
       "      <th>3</th>\n",
       "      <td>21.0</td>\n",
       "      <td>13.0</td>\n",
       "      <td>8.0</td>\n",
       "      <td>25.711678</td>\n",
       "      <td>143.0</td>\n",
       "      <td>NM</td>\n",
       "      <td>116.816864</td>\n",
       "      <td>259.927960</td>\n",
       "      <td>2</td>\n",
       "      <td>Standard</td>\n",
       "      <td>...</td>\n",
       "      <td>46.0</td>\n",
       "      <td>17092.69</td>\n",
       "      <td>7.0</td>\n",
       "      <td>3.0</td>\n",
       "      <td>19.0</td>\n",
       "      <td>7.0</td>\n",
       "      <td>1695.390833</td>\n",
       "      <td>16.40</td>\n",
       "      <td>1417.06</td>\n",
       "      <td>62.794260</td>\n",
       "    </tr>\n",
       "    <tr>\n",
       "      <th>4</th>\n",
       "      <td>19.0</td>\n",
       "      <td>13.0</td>\n",
       "      <td>6.0</td>\n",
       "      <td>39.140463</td>\n",
       "      <td>138.0</td>\n",
       "      <td>Yes</td>\n",
       "      <td>87.262887</td>\n",
       "      <td>626.212330</td>\n",
       "      <td>1</td>\n",
       "      <td>Bad</td>\n",
       "      <td>...</td>\n",
       "      <td>45.0</td>\n",
       "      <td>81471.96</td>\n",
       "      <td>6.0</td>\n",
       "      <td>6.0</td>\n",
       "      <td>25.0</td>\n",
       "      <td>5.0</td>\n",
       "      <td>6763.330000</td>\n",
       "      <td>27.09</td>\n",
       "      <td>2679.69</td>\n",
       "      <td>202.857783</td>\n",
       "    </tr>\n",
       "  </tbody>\n",
       "</table>\n",
       "<p>5 rows × 21 columns</p>\n",
       "</div>"
      ],
      "text/plain": [
       "   Delay_from_due_date  Num_of_Delayed_Payment  Num_Credit_Inquiries  \\\n",
       "0                 56.0                    16.0                  11.0   \n",
       "1                 49.0                    23.0                  12.0   \n",
       "2                 34.0                    20.0                   6.0   \n",
       "3                 21.0                    13.0                   8.0   \n",
       "4                 19.0                    13.0                   6.0   \n",
       "\n",
       "   Credit_Utilization_Ratio  Credit_History_Age Payment_of_Min_Amount  \\\n",
       "0                 35.598217               120.0                   Yes   \n",
       "1                 25.553106               120.0                   Yes   \n",
       "2                 40.039954               174.0                   Yes   \n",
       "3                 25.711678               143.0                    NM   \n",
       "4                 39.140463               138.0                   Yes   \n",
       "\n",
       "   Amount_invested_monthly  Monthly_Balance  Credit_Score Credit_Mix  ...  \\\n",
       "0               229.093478       252.385965             1        Bad  ...   \n",
       "1               104.613906       219.105944             1        Bad  ...   \n",
       "2               338.626965       251.265589             1        Bad  ...   \n",
       "3               116.816864       259.927960             2   Standard  ...   \n",
       "4                87.262887       626.212330             1        Bad  ...   \n",
       "\n",
       "    Age  Annual_Income  Num_Bank_Accounts  Num_Credit_Card  Interest_Rate  \\\n",
       "0  15.0       36597.56                8.0             10.0           29.0   \n",
       "1  28.0       32057.30                9.0              8.0           16.0   \n",
       "2  46.0       75868.80                6.0             10.0           32.0   \n",
       "3  46.0       17092.69                7.0              3.0           19.0   \n",
       "4  45.0       81471.96                6.0              6.0           25.0   \n",
       "\n",
       "   Num_of_Loan  Monthly_Inhand_Salary  Changed_Credit_Limit  Outstanding_Debt  \\\n",
       "0          5.0            3143.796667                 22.49           2963.18   \n",
       "1          7.0            2606.441667                  1.40           1327.26   \n",
       "2          7.0            6074.400000                  3.60           1432.71   \n",
       "3          7.0            1695.390833                 16.40           1417.06   \n",
       "4          5.0            6763.330000                 27.09           2679.69   \n",
       "\n",
       "   Total_EMI_per_month  \n",
       "0           122.900223  \n",
       "1           164.859426  \n",
       "2           297.547446  \n",
       "3            62.794260  \n",
       "4           202.857783  \n",
       "\n",
       "[5 rows x 21 columns]"
      ]
     },
     "execution_count": 7,
     "metadata": {},
     "output_type": "execute_result"
    }
   ],
   "source": [
    "train.head()"
   ]
  },
  {
   "cell_type": "code",
   "execution_count": 8,
   "id": "b0ac6ce5-100e-4a7a-8d79-d2f27c382961",
   "metadata": {},
   "outputs": [
    {
     "data": {
      "text/plain": [
       "Credit_Score\n",
       "2    5237\n",
       "1    2978\n",
       "3    1785\n",
       "Name: count, dtype: int64"
      ]
     },
     "execution_count": 8,
     "metadata": {},
     "output_type": "execute_result"
    }
   ],
   "source": [
    "train['Credit_Score'].value_counts()"
   ]
  },
  {
   "cell_type": "markdown",
   "id": "303b7e06-8212-46be-94d8-a29ee364c2bf",
   "metadata": {},
   "source": [
    "### 데이터 전처리"
   ]
  },
  {
   "cell_type": "code",
   "execution_count": 9,
   "id": "3446b104-1770-4a37-8417-a463817797f3",
   "metadata": {},
   "outputs": [
    {
     "data": {
      "text/plain": [
       "Index(['Payment_of_Min_Amount', 'Credit_Mix', 'Payment_Behaviour'], dtype='object')"
      ]
     },
     "execution_count": 9,
     "metadata": {},
     "output_type": "execute_result"
    }
   ],
   "source": [
    "target = train.pop('Credit_Score')\n",
    "cols = train.columns[train.dtypes == object]\n",
    "cols"
   ]
  },
  {
   "cell_type": "code",
   "execution_count": 10,
   "id": "9e4ebff1-bb5c-4907-ad21-4a8414bf6754",
   "metadata": {},
   "outputs": [
    {
     "name": "stdout",
     "output_type": "stream",
     "text": [
      "<class 'pandas.core.frame.DataFrame'>\n",
      "RangeIndex: 10000 entries, 0 to 9999\n",
      "Data columns (total 3 columns):\n",
      " #   Column                 Non-Null Count  Dtype   \n",
      "---  ------                 --------------  -----   \n",
      " 0   Payment_of_Min_Amount  10000 non-null  category\n",
      " 1   Credit_Mix             10000 non-null  category\n",
      " 2   Payment_Behaviour      10000 non-null  category\n",
      "dtypes: category(3)\n",
      "memory usage: 29.9 KB\n"
     ]
    },
    {
     "data": {
      "text/plain": [
       "(None,\n",
       "   Payment_of_Min_Amount Credit_Mix                 Payment_Behaviour\n",
       " 0                   Yes        Bad  High_spent_Medium_value_payments\n",
       " 1                   Yes        Bad   High_spent_Small_value_payments\n",
       " 2                   Yes        Bad    Low_spent_Large_value_payments\n",
       " 3                    NM   Standard   High_spent_Small_value_payments\n",
       " 4                   Yes        Bad  High_spent_Medium_value_payments)"
      ]
     },
     "execution_count": 10,
     "metadata": {},
     "output_type": "execute_result"
    }
   ],
   "source": [
    "train['Payment_of_Min_Amount'] = train['Payment_of_Min_Amount'].astype('category')\n",
    "train['Credit_Mix'] = train['Credit_Mix'].astype('category')\n",
    "train['Payment_Behaviour'] = train['Payment_Behaviour'].astype('category')\n",
    "\n",
    "test['Payment_of_Min_Amount'] = test['Payment_of_Min_Amount'].astype('category')\n",
    "test['Credit_Mix'] = test['Credit_Mix'].astype('category')\n",
    "test['Payment_Behaviour'] = test['Payment_Behaviour'].astype('category')\n",
    "\n",
    "train[cols].info(), train[cols].head()"
   ]
  },
  {
   "cell_type": "markdown",
   "id": "6911b4b7-f4dd-4563-88e9-0a5c63fcc898",
   "metadata": {},
   "source": [
    "### 검증 데이터 나누기"
   ]
  },
  {
   "cell_type": "code",
   "execution_count": 11,
   "id": "19d2a86e-001f-4ae8-aabc-34d93b1b3e48",
   "metadata": {},
   "outputs": [
    {
     "data": {
      "text/plain": [
       "((8000, 20), (2000, 20), (8000,), (2000,))"
      ]
     },
     "execution_count": 11,
     "metadata": {},
     "output_type": "execute_result"
    }
   ],
   "source": [
    "from sklearn.model_selection import train_test_split\n",
    "X_train, X_val, y_train, y_val = train_test_split(train, target, test_size=0.2, random_state=0)\n",
    "X_train.shape, X_val.shape, y_train.shape, y_val.shape"
   ]
  },
  {
   "cell_type": "markdown",
   "id": "0a19705b-1675-41f8-bb91-0d176f03de8c",
   "metadata": {},
   "source": [
    "### 머신러닝 학습 및 평가"
   ]
  },
  {
   "cell_type": "code",
   "execution_count": 12,
   "id": "a3569936-e1f5-4cff-bc21-42dc5b35cfae",
   "metadata": {},
   "outputs": [],
   "source": [
    "from sklearn.metrics import accuracy_score\n",
    "from sklearn.metrics import f1_score"
   ]
  },
  {
   "cell_type": "code",
   "execution_count": 13,
   "id": "7adad4f3-5b48-4205-aea3-8688cfd1fb3b",
   "metadata": {},
   "outputs": [],
   "source": [
    "# RandomForest: category 인식 못함\n",
    "# from sklearn.ensemble import RansomForestClassifier\n",
    "# rf = RandomForestClassfier(random_state = 0)\n",
    "# rf.fit(X_train, y_train)"
   ]
  },
  {
   "cell_type": "code",
   "execution_count": 14,
   "id": "6e5fcbda-f466-48d3-8ca9-1951c21f2db0",
   "metadata": {},
   "outputs": [
    {
     "data": {
      "text/plain": [
       "array([2, 2, 2, ..., 3, 2, 2], shape=(2000,))"
      ]
     },
     "execution_count": 14,
     "metadata": {},
     "output_type": "execute_result"
    }
   ],
   "source": [
    "import lightgbm as lgb\n",
    "lgbmc = lgb.LGBMClassifier(random_state=0, verbose=-1)\n",
    "lgbmc.fit(X_train, y_train)\n",
    "pred = lgbmc.predict(X_val)\n",
    "pred"
   ]
  },
  {
   "cell_type": "code",
   "execution_count": 15,
   "id": "419197f4-971d-4064-b112-a42159ceb8e7",
   "metadata": {},
   "outputs": [
    {
     "name": "stdout",
     "output_type": "stream",
     "text": [
      "accuracy_score: 0.6985\n",
      "f1_score: 0.6777379561595467\n"
     ]
    }
   ],
   "source": [
    "accuracy = accuracy_score(y_val, pred)\n",
    "print('accuracy_score:', accuracy)\n",
    "\n",
    "f1 = f1_score(y_val, pred, average='macro')\n",
    "print('f1_score:', f1)"
   ]
  },
  {
   "cell_type": "markdown",
   "id": "ae1a9368-f59f-41ec-8bd6-e0400829d2a5",
   "metadata": {},
   "source": [
    "### 예측 밒 결과 파일 생성"
   ]
  },
  {
   "cell_type": "code",
   "execution_count": 16,
   "id": "115a4cb9-2024-413c-b3c6-86cad99a5404",
   "metadata": {},
   "outputs": [
    {
     "data": {
      "text/plain": [
       "array([2, 1, 1, ..., 1, 1, 2], shape=(10000,))"
      ]
     },
     "execution_count": 16,
     "metadata": {},
     "output_type": "execute_result"
    }
   ],
   "source": [
    "pred = lgbmc.predict(test)\n",
    "pred"
   ]
  },
  {
   "cell_type": "code",
   "execution_count": 17,
   "id": "75bc518b-d7b3-4a8e-ba4d-bb6c502a3eec",
   "metadata": {},
   "outputs": [],
   "source": [
    "submit = pd.DataFrame({'pred':pred})\n",
    "submit.to_csv('result_ex5.csv', index=False)"
   ]
  },
  {
   "cell_type": "code",
   "execution_count": null,
   "id": "d92823a6-a3d5-4fc5-a8b4-244c6671d742",
   "metadata": {},
   "outputs": [],
   "source": []
  }
 ],
 "metadata": {
  "kernelspec": {
   "display_name": "Python 3 (ipykernel)",
   "language": "python",
   "name": "python3"
  },
  "language_info": {
   "codemirror_mode": {
    "name": "ipython",
    "version": 3
   },
   "file_extension": ".py",
   "mimetype": "text/x-python",
   "name": "python",
   "nbconvert_exporter": "python",
   "pygments_lexer": "ipython3",
   "version": "3.13.2"
  }
 },
 "nbformat": 4,
 "nbformat_minor": 5
}
