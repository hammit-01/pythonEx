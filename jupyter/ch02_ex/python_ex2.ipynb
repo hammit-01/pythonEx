{
 "cells": [
  {
   "cell_type": "markdown",
   "id": "a099f4ce-aaa2-4df3-86a3-a8f3d1849e9f",
   "metadata": {},
   "source": [
    "# part 2 chapter 2\n",
    "> 머신러닝 프로세스\n",
    ">> 문제 정의 -> 라이브러리/데이터 불러오기 -> EDA -> 데이터 전처리 -> 검증 데이터 나누기 -> 모델 학습 및 평가(최고 효율이 나올 때까지 데이터 전처리 단계로 가서 아래 프로세스 반복 수행) -> 예측 및 제출"
   ]
  },
  {
   "cell_type": "code",
   "execution_count": 1,
   "id": "b2b2efca-a00c-4490-b44b-9de313665406",
   "metadata": {},
   "outputs": [],
   "source": [
    "import pandas as pd\n",
    "train = pd.read_csv(\"http://raw.githubusercontent.com/lovedlim/bigdata_analyst_cert/main/part2/ch2/train.csv\")\n",
    "test = pd.read_csv(\"http://raw.githubusercontent.com/lovedlim/bigdata_analyst_cert/main/part2/ch2/test.csv\")"
   ]
  },
  {
   "cell_type": "markdown",
   "id": "7920f242-37bc-4e27-8707-8664f5a5e948",
   "metadata": {},
   "source": [
    "# 머신러닝 분류 실습"
   ]
  },
  {
   "cell_type": "markdown",
   "id": "f51f1eea-39a8-4de4-b7bd-93c894ea9c9d",
   "metadata": {},
   "source": [
    "## EDA"
   ]
  },
  {
   "cell_type": "code",
   "execution_count": 2,
   "id": "355f45f3-b0bf-46be-a028-4bf7b091a99a",
   "metadata": {},
   "outputs": [
    {
     "name": "stdout",
     "output_type": "stream",
     "text": [
      "      id   age  workclass  fnlwgt     education  education.num  \\\n",
      "0   3331  34.0  State-gov  177331  Some-college             10   \n",
      "1  19749  58.0    Private  290661       HS-grad              9   \n",
      "2   1157  48.0    Private  125933  Some-college             10   \n",
      "3    693  58.0    Private  100313  Some-college             10   \n",
      "4  12522  41.0    Private  195661  Some-college             10   \n",
      "\n",
      "       marital.status        occupation relationship   race     sex  \\\n",
      "0  Married-civ-spouse    Prof-specialty      Husband  Black    Male   \n",
      "1  Married-civ-spouse      Craft-repair      Husband  White    Male   \n",
      "2             Widowed   Exec-managerial    Unmarried  Black  Female   \n",
      "3  Married-civ-spouse   Protective-serv      Husband  White    Male   \n",
      "4  Married-civ-spouse  Transport-moving      Husband  White    Male   \n",
      "\n",
      "   capital.gain  capital.loss  hours.per.week native.country income  \n",
      "0          4386             0            40.0  United-States   >50K  \n",
      "1             0             0            40.0  United-States  <=50K  \n",
      "2             0          1669            38.0  United-States  <=50K  \n",
      "3             0          1902            40.0  United-States   >50K  \n",
      "4             0             0            54.0  United-States  <=50K   \n",
      "\n",
      "(29304, 16) \n",
      "\n",
      "(3257, 15) \n",
      "\n",
      "<class 'pandas.core.frame.DataFrame'>\n",
      "RangeIndex: 29304 entries, 0 to 29303\n",
      "Data columns (total 16 columns):\n",
      " #   Column          Non-Null Count  Dtype  \n",
      "---  ------          --------------  -----  \n",
      " 0   id              29304 non-null  int64  \n",
      " 1   age             29292 non-null  float64\n",
      " 2   workclass       27642 non-null  object \n",
      " 3   fnlwgt          29304 non-null  int64  \n",
      " 4   education       29304 non-null  object \n",
      " 5   education.num   29304 non-null  int64  \n",
      " 6   marital.status  29304 non-null  object \n",
      " 7   occupation      27636 non-null  object \n",
      " 8   relationship    29304 non-null  object \n",
      " 9   race            29304 non-null  object \n",
      " 10  sex             29304 non-null  object \n",
      " 11  capital.gain    29304 non-null  int64  \n",
      " 12  capital.loss    29304 non-null  int64  \n",
      " 13  hours.per.week  29291 non-null  float64\n",
      " 14  native.country  28767 non-null  object \n",
      " 15  income          29304 non-null  object \n",
      "dtypes: float64(2), int64(5), object(9)\n",
      "memory usage: 3.6+ MB\n",
      "None \n",
      "\n",
      "<class 'pandas.core.frame.DataFrame'>\n",
      "RangeIndex: 3257 entries, 0 to 3256\n",
      "Data columns (total 15 columns):\n",
      " #   Column          Non-Null Count  Dtype  \n",
      "---  ------          --------------  -----  \n",
      " 0   id              3257 non-null   int64  \n",
      " 1   age             3251 non-null   float64\n",
      " 2   workclass       3083 non-null   object \n",
      " 3   fnlwgt          3257 non-null   int64  \n",
      " 4   education       3257 non-null   object \n",
      " 5   education.num   3257 non-null   int64  \n",
      " 6   marital.status  3257 non-null   object \n",
      " 7   occupation      3082 non-null   object \n",
      " 8   relationship    3257 non-null   object \n",
      " 9   race            3257 non-null   object \n",
      " 10  sex             3257 non-null   object \n",
      " 11  capital.gain    3257 non-null   int64  \n",
      " 12  capital.loss    3257 non-null   int64  \n",
      " 13  hours.per.week  3248 non-null   float64\n",
      " 14  native.country  3211 non-null   object \n",
      "dtypes: float64(2), int64(5), object(8)\n",
      "memory usage: 381.8+ KB\n",
      "None \n",
      "\n",
      "                 id           age        fnlwgt  education.num  capital.gain  \\\n",
      "count  29304.000000  29292.000000  2.930400e+04   29304.000000  29304.000000   \n",
      "mean   16264.027880     38.553223  1.897488e+05      10.080842   1093.858722   \n",
      "std     9384.518323     13.628811  1.055250e+05       2.570824   7477.435640   \n",
      "min        0.000000    -38.000000  1.228500e+04       1.000000      0.000000   \n",
      "25%     8145.750000     28.000000  1.177890e+05       9.000000      0.000000   \n",
      "50%    16253.500000     37.000000  1.783765e+05      10.000000      0.000000   \n",
      "75%    24374.250000     48.000000  2.370682e+05      12.000000      0.000000   \n",
      "max    32560.000000     90.000000  1.484705e+06      16.000000  99999.000000   \n",
      "\n",
      "       capital.loss  hours.per.week  \n",
      "count  29304.000000    29291.000000  \n",
      "mean      86.744506       40.434229  \n",
      "std      401.518928       12.324036  \n",
      "min        0.000000        1.000000  \n",
      "25%        0.000000       40.000000  \n",
      "50%        0.000000       40.000000  \n",
      "75%        0.000000       45.000000  \n",
      "max     4356.000000       99.000000   \n",
      "\n",
      "                 id          age        fnlwgt  education.num  capital.gain  \\\n",
      "count   3257.000000  3251.000000  3.257000e+03    3257.000000   3257.000000   \n",
      "mean   16423.704943    38.802830  1.900447e+05      10.079214    931.804728   \n",
      "std     9535.416746    13.917588  1.057902e+05       2.590118   6496.962999   \n",
      "min        3.000000    17.000000  1.882700e+04       1.000000      0.000000   \n",
      "25%     8078.000000    28.000000  1.186520e+05       9.000000      0.000000   \n",
      "50%    16626.000000    37.000000  1.783190e+05      10.000000      0.000000   \n",
      "75%    24743.000000    48.000000  2.364360e+05      12.000000      0.000000   \n",
      "max    32559.000000    90.000000  1.033222e+06      16.000000  99999.000000   \n",
      "\n",
      "       capital.loss  hours.per.week  \n",
      "count   3257.000000     3248.000000  \n",
      "mean      92.336199       40.468288  \n",
      "std      415.732721       12.598546  \n",
      "min        0.000000        1.000000  \n",
      "25%        0.000000       40.000000  \n",
      "50%        0.000000       40.000000  \n",
      "75%        0.000000       45.000000  \n",
      "max     3900.000000       99.000000   \n",
      "\n",
      "       workclass education      marital.status      occupation relationship  \\\n",
      "count      27642     29304               29304           27636        29304   \n",
      "unique         8        16                   7              14            6   \n",
      "top      Private   HS-grad  Married-civ-spouse  Prof-specialty      Husband   \n",
      "freq       20451      9449               13466            3683        11845   \n",
      "\n",
      "         race    sex native.country income  \n",
      "count   29304  29304          28767  29304  \n",
      "unique      5      2             41      2  \n",
      "top     White   Male  United-States  <=50K  \n",
      "freq    25022  19578          26240  22263   \n",
      "\n",
      "       workclass education      marital.status      occupation relationship  \\\n",
      "count       3083      3257                3257            3082         3257   \n",
      "unique         8        16                   7              14            6   \n",
      "top      Private   HS-grad  Married-civ-spouse  Prof-specialty      Husband   \n",
      "freq        2245      1052                1510             457         1348   \n",
      "\n",
      "         race   sex native.country  \n",
      "count    3257  3257           3211  \n",
      "unique      5     2             37  \n",
      "top     White  Male  United-States  \n",
      "freq     2794  2212           2930   \n",
      "\n",
      "id                   0\n",
      "age                 12\n",
      "workclass         1662\n",
      "fnlwgt               0\n",
      "education            0\n",
      "education.num        0\n",
      "marital.status       0\n",
      "occupation        1668\n",
      "relationship         0\n",
      "race                 0\n",
      "sex                  0\n",
      "capital.gain         0\n",
      "capital.loss         0\n",
      "hours.per.week      13\n",
      "native.country     537\n",
      "income               0\n",
      "dtype: int64 \n",
      "\n",
      "id                  0\n",
      "age                 6\n",
      "workclass         174\n",
      "fnlwgt              0\n",
      "education           0\n",
      "education.num       0\n",
      "marital.status      0\n",
      "occupation        175\n",
      "relationship        0\n",
      "race                0\n",
      "sex                 0\n",
      "capital.gain        0\n",
      "capital.loss        0\n",
      "hours.per.week      9\n",
      "native.country     46\n",
      "dtype: int64 \n",
      "\n",
      "relationship\n",
      "Husband           11845\n",
      "Not-in-family      7456\n",
      "Own-child          4555\n",
      "Unmarried          3127\n",
      "Wife               1423\n",
      "Other-relative      898\n",
      "Name: count, dtype: int64\n"
     ]
    }
   ],
   "source": [
    "# Process 1 head(): 데이터 샘플 확인\n",
    "print(train.head(), '\\n')\n",
    "# Process 2 shape: 데이터 크기 확인(shape는 괄호 없음), 행과 열의 개수 보여줌, train과 test의 열 개수 차이는 target의 유무에 따른 것\n",
    "print(train.shape, '\\n')\n",
    "print(test.shape, '\\n')\n",
    "# Process 3 info(): 데이터 자료형 확인, object형은 인코딩 과정 거쳐야 함\n",
    "print(train.info(), '\\n')\n",
    "print(test.info(), '\\n')\n",
    "# Process 4-1 describe()/수치형: 데이터 기초 통계 확인\n",
    "print(train.describe(), '\\n')\n",
    "print(test.describe(), '\\n')\n",
    "# Process 4-2 describe(include = 'O')/범주형: 데이터 기초 통계 확인\n",
    "print(train.describe(include = 'O'), '\\n')\n",
    "print(test.describe(include = 'O'), '\\n')\n",
    "# Process 5 isnull().sum(): 결측치 확인, 결측치 확인 시 전처리 단계에서 처리\n",
    "print(train.isnull().sum(), '\\n')\n",
    "print(test.isnull().sum(), '\\n')\n",
    "# Process 6 value_counts(): 각 target별 빈도 수 확인, 이진분류 확인, 불균형 데이터인지 확인\n",
    "print(train['relationship'].value_counts())"
   ]
  },
  {
   "cell_type": "markdown",
   "id": "ec34a2a9-5f8f-42eb-819d-5de818718a9e",
   "metadata": {},
   "source": [
    "## 데이터 전처리\n",
    "결측치, 인코딩: 필수\n",
    "이상치, 스케일링: 선택\n",
    "데이터 전처리 시 train 데이터 뿐만이 아니라 test 데이터도 똑같이 적용 시켜야 함"
   ]
  },
  {
   "cell_type": "markdown",
   "id": "6e416b22-230c-47ce-83db-bdb0816f96f2",
   "metadata": {},
   "source": [
    "### 결측치 삭제"
   ]
  },
  {
   "cell_type": "code",
   "execution_count": 3,
   "id": "89ab3bd3-bddb-45b2-8b5a-d91d154ac1d3",
   "metadata": {},
   "outputs": [
    {
     "name": "stdout",
     "output_type": "stream",
     "text": [
      "처리 전\n",
      " id                   0\n",
      "age                 12\n",
      "workclass         1662\n",
      "fnlwgt               0\n",
      "education            0\n",
      "education.num        0\n",
      "marital.status       0\n",
      "occupation        1668\n",
      "relationship         0\n",
      "race                 0\n",
      "sex                  0\n",
      "capital.gain         0\n",
      "capital.loss         0\n",
      "hours.per.week      13\n",
      "native.country     537\n",
      "income               0\n",
      "dtype: int64 \n",
      "\n",
      "처리 후\n",
      " id                0\n",
      "age               0\n",
      "workclass         0\n",
      "fnlwgt            0\n",
      "education         0\n",
      "education.num     0\n",
      "marital.status    0\n",
      "occupation        0\n",
      "relationship      0\n",
      "race              0\n",
      "sex               0\n",
      "capital.gain      0\n",
      "capital.loss      0\n",
      "hours.per.week    0\n",
      "native.country    0\n",
      "income            0\n",
      "dtype: int64 \n",
      "\n",
      "dropna(subset = ['native.country', 'workclass'])\n",
      " id                 0\n",
      "age               12\n",
      "workclass          0\n",
      "fnlwgt             0\n",
      "education          0\n",
      "education.num      0\n",
      "marital.status     0\n",
      "occupation         6\n",
      "relationship       0\n",
      "race               0\n",
      "sex                0\n",
      "capital.gain       0\n",
      "capital.loss       0\n",
      "hours.per.week    13\n",
      "native.country     0\n",
      "income             0\n",
      "dtype: int64 \n",
      "\n",
      "dropna(axis=1)\n",
      " id                0\n",
      "fnlwgt            0\n",
      "education         0\n",
      "education.num     0\n",
      "marital.status    0\n",
      "relationship      0\n",
      "race              0\n",
      "sex               0\n",
      "capital.gain      0\n",
      "capital.loss      0\n",
      "income            0\n",
      "dtype: int64 \n",
      " \n",
      "\n",
      "drop(['native.country', 'workclass'], axis = 1)\n",
      " id                   0\n",
      "age                 12\n",
      "fnlwgt               0\n",
      "education            0\n",
      "education.num        0\n",
      "marital.status       0\n",
      "occupation        1668\n",
      "relationship         0\n",
      "race                 0\n",
      "sex                  0\n",
      "capital.gain         0\n",
      "capital.loss         0\n",
      "hours.per.week      13\n",
      "income               0\n",
      "dtype: int64 \n",
      "\n"
     ]
    }
   ],
   "source": [
    "# dropna(): 결측치가 하나라도 있는 행을 제거, 권장\n",
    "print(\"처리 전\\n\", train.isnull().sum(), \"\\n\")\n",
    "df = train.dropna()\n",
    "print(\"처리 후\\n\", df.isnull().sum(), \"\\n\")\n",
    "\n",
    "# dropna(subset = ['칼럼명']): 결측치가 있는 컬럼 데이터에서 결측이 있는 행을 제거\n",
    "df = train.dropna(subset = ['native.country', 'workclass'])\n",
    "print(\"dropna(subset = ['native.country', 'workclass'])\\n\", df.isnull().sum(), \"\\n\")\n",
    "\n",
    "# dropna(axis = 1): 결측치가 있는 컬럼 전체를 제거, 위험하니 주의\n",
    "df = train.dropna(axis = 1)\n",
    "print(\"dropna(axis=1)\\n\",df.isnull().sum(), \"\\n\", \"\\n\")\n",
    "\n",
    "# drop(['native.country', 'workclass'], axis=1): 특정 컬럼만 삭제\n",
    "df = train.drop(['native.country', 'workclass'], axis = 1)\n",
    "print(\"drop(['native.country', 'workclass'], axis = 1)\\n\", df.isnull().sum(), \"\\n\")"
   ]
  },
  {
   "cell_type": "markdown",
   "id": "ab616122-34f1-488e-af71-299fb3e8460a",
   "metadata": {},
   "source": [
    "### 결측치 채우기(범주형)"
   ]
  },
  {
   "cell_type": "code",
   "execution_count": 4,
   "id": "ff4d62a6-7055-4a1d-8aec-873e518da9dd",
   "metadata": {},
   "outputs": [],
   "source": [
    "# 최빈값으로 대체\n",
    "m = train['workclass'].mode()[0]\n",
    "train['workclass'] = train['workclass'].fillna(m)\n",
    "\n",
    "m = train['native.country'].mode()[0]\n",
    "train['native.country'] = train['native.country'].fillna(m)\n",
    "\n",
    "train.isnull().sum()\n",
    "\n",
    "# 결측치를 새로운 카테고리로 분류(임의의 값: 여기서는 X 으로 대체)\n",
    "train['occupation'] = train['occupation'].fillna('X')\n",
    "train.isnull().sum()\n",
    "\n",
    "# 전처리 작업 test에 적용\n",
    "test['workclass'] = test['workclass'].fillna(train['workclass'].mode()[0])\n",
    "test['native.country'] = test['native.country'].fillna(train['native.country'].mode()[0])\n",
    "test['occupation'] = test['occupation'].fillna('X')"
   ]
  },
  {
   "cell_type": "markdown",
   "id": "2db2cd0f-202a-4a2b-b669-a19c1c1ed622",
   "metadata": {},
   "source": [
    "### 결측치 채우기(수치형)\n",
    "> 결측치를 채울 컬럼의 평균값 또는 중앙값으로 대체"
   ]
  },
  {
   "cell_type": "code",
   "execution_count": 5,
   "id": "9c7536cf-029f-41bf-9bdf-5c6586cd87fb",
   "metadata": {},
   "outputs": [
    {
     "name": "stdout",
     "output_type": "stream",
     "text": [
      "평균값: 38\n",
      "중앙값: 40\n"
     ]
    },
    {
     "data": {
      "text/plain": [
       "id                0\n",
       "age               0\n",
       "workclass         0\n",
       "fnlwgt            0\n",
       "education         0\n",
       "education.num     0\n",
       "marital.status    0\n",
       "occupation        0\n",
       "relationship      0\n",
       "race              0\n",
       "sex               0\n",
       "capital.gain      0\n",
       "capital.loss      0\n",
       "hours.per.week    0\n",
       "native.country    0\n",
       "income            0\n",
       "dtype: int64"
      ]
     },
     "execution_count": 5,
     "metadata": {},
     "output_type": "execute_result"
    }
   ],
   "source": [
    "# 평균값\n",
    "value = int(train['age'].mean())\n",
    "print(\"평균값:\", value)\n",
    "train['age'] = train['age'].fillna(value)\n",
    "test['age'] = test['age'].fillna(value)\n",
    "\n",
    "# 중앙값\n",
    "value = int(train['hours.per.week'].median())\n",
    "print(\"중앙값:\", value)\n",
    "train['hours.per.week'] = train['hours.per.week'].fillna(value)\n",
    "test['hours.per.week'] = test['hours.per.week'].fillna(value)\n",
    "\n",
    "train.isnull().sum()"
   ]
  },
  {
   "cell_type": "markdown",
   "id": "6ec0ddd6-20ee-4f87-89ab-b4802521864f",
   "metadata": {},
   "source": [
    "### 이상치 처리"
   ]
  },
  {
   "cell_type": "code",
   "execution_count": 6,
   "id": "09eb9f10-82a1-4cc8-948b-6447a6674bc3",
   "metadata": {},
   "outputs": [
    {
     "name": "stdout",
     "output_type": "stream",
     "text": [
      "(29304, 16)\n",
      "(29301, 16)\n"
     ]
    }
   ],
   "source": [
    "# IQR 활용\n",
    "train.describe()\n",
    "train[train['age']<=0]\n",
    "test[test['age']<=0]\n",
    "print(train.shape)\n",
    "# age가 0 이상인 데이터만 살리기\n",
    "train = train[train['age']>=0]\n",
    "print(train.shape)"
   ]
  },
  {
   "cell_type": "markdown",
   "id": "49993392-dc1d-4379-bf5d-3e936dac4596",
   "metadata": {},
   "source": [
    "### 인코딩\n",
    "> train과 test의 컬럼이 다르면 머신러닝 입력 데이터로 사용 불가"
   ]
  },
  {
   "cell_type": "code",
   "execution_count": 7,
   "id": "3441dc3f-fcd5-483d-9aac-34ee04f2d3ad",
   "metadata": {},
   "outputs": [
    {
     "name": "stdout",
     "output_type": "stream",
     "text": [
      "(29301, 15) (3257, 15) (29301, 107) (3257, 103)\n"
     ]
    }
   ],
   "source": [
    "# 원-핫 인코딩\n",
    "# pd.get_dummies(train): 인코딩이 필요한 컬럼만 자동으로 인코딩이 진행된 후 결과값 반환\n",
    "y_train = train.pop('income')\n",
    "train_oh = pd.get_dummies(train)\n",
    "test_oh = pd.get_dummies(test)\n",
    "print(train.shape, test.shape, train_oh.shape, test_oh.shape)\n",
    "# train과 test의 컬럼 개수가 달라(109개, 104개) 머신러닝 입력 데이터로 사용 불가"
   ]
  },
  {
   "cell_type": "code",
   "execution_count": 8,
   "id": "32aba0b7-520b-4ea6-8c75-8d6bed317a03",
   "metadata": {},
   "outputs": [],
   "source": [
    "# 레이블 인코딩\n",
    "# cols = train.select_dtypes(include = 'O').columns\n",
    "cols = train.columns[train.dtypes == 'object']\n",
    "# cols = ['workclass', 'education', 'marital.status', 'occupation', 'relationship', 'race', 'sex', 'native.country']\n",
    "cols\n",
    "\n",
    "from sklearn.preprocessing import LabelEncoder\n",
    "\n",
    "for col in cols:\n",
    "    le = LabelEncoder()\n",
    "    train[col] = le.fit_transform(train[col])\n",
    "    test[col] = le.transform(test[col])"
   ]
  },
  {
   "cell_type": "markdown",
   "id": "8cb7e399-dcca-48c8-9748-f0e9093a90cc",
   "metadata": {},
   "source": [
    "### 스케일링"
   ]
  },
  {
   "cell_type": "code",
   "execution_count": 9,
   "id": "97acf22e-41be-4a5a-90cf-1093d9b8e09a",
   "metadata": {},
   "outputs": [],
   "source": [
    "cols = ['age', 'fnlwgt', 'education.num', 'capital.gain', 'capital.loss', 'hours.per.week']\n",
    "def get_data():\n",
    "    train_copy = train.copy()\n",
    "    test_copy = test.copy()\n",
    "    return train_copy, test_copy"
   ]
  },
  {
   "cell_type": "code",
   "execution_count": 10,
   "id": "8d9076f3-7855-4b68-9c80-5499a149d543",
   "metadata": {},
   "outputs": [
    {
     "data": {
      "text/html": [
       "<div>\n",
       "<style scoped>\n",
       "    .dataframe tbody tr th:only-of-type {\n",
       "        vertical-align: middle;\n",
       "    }\n",
       "\n",
       "    .dataframe tbody tr th {\n",
       "        vertical-align: top;\n",
       "    }\n",
       "\n",
       "    .dataframe thead th {\n",
       "        text-align: right;\n",
       "    }\n",
       "</style>\n",
       "<table border=\"1\" class=\"dataframe\">\n",
       "  <thead>\n",
       "    <tr style=\"text-align: right;\">\n",
       "      <th></th>\n",
       "      <th>age</th>\n",
       "      <th>fnlwgt</th>\n",
       "      <th>education.num</th>\n",
       "      <th>capital.gain</th>\n",
       "      <th>capital.loss</th>\n",
       "      <th>hours.per.week</th>\n",
       "    </tr>\n",
       "  </thead>\n",
       "  <tbody>\n",
       "    <tr>\n",
       "      <th>0</th>\n",
       "      <td>34.0</td>\n",
       "      <td>177331</td>\n",
       "      <td>10</td>\n",
       "      <td>4386</td>\n",
       "      <td>0</td>\n",
       "      <td>40.0</td>\n",
       "    </tr>\n",
       "    <tr>\n",
       "      <th>1</th>\n",
       "      <td>58.0</td>\n",
       "      <td>290661</td>\n",
       "      <td>9</td>\n",
       "      <td>0</td>\n",
       "      <td>0</td>\n",
       "      <td>40.0</td>\n",
       "    </tr>\n",
       "  </tbody>\n",
       "</table>\n",
       "</div>"
      ],
      "text/plain": [
       "    age  fnlwgt  education.num  capital.gain  capital.loss  hours.per.week\n",
       "0  34.0  177331             10          4386             0            40.0\n",
       "1  58.0  290661              9             0             0            40.0"
      ]
     },
     "metadata": {},
     "output_type": "display_data"
    },
    {
     "data": {
      "text/html": [
       "<div>\n",
       "<style scoped>\n",
       "    .dataframe tbody tr th:only-of-type {\n",
       "        vertical-align: middle;\n",
       "    }\n",
       "\n",
       "    .dataframe tbody tr th {\n",
       "        vertical-align: top;\n",
       "    }\n",
       "\n",
       "    .dataframe thead th {\n",
       "        text-align: right;\n",
       "    }\n",
       "</style>\n",
       "<table border=\"1\" class=\"dataframe\">\n",
       "  <thead>\n",
       "    <tr style=\"text-align: right;\">\n",
       "      <th></th>\n",
       "      <th>age</th>\n",
       "      <th>fnlwgt</th>\n",
       "      <th>education.num</th>\n",
       "      <th>capital.gain</th>\n",
       "      <th>capital.loss</th>\n",
       "      <th>hours.per.week</th>\n",
       "    </tr>\n",
       "  </thead>\n",
       "  <tbody>\n",
       "    <tr>\n",
       "      <th>0</th>\n",
       "      <td>0.232877</td>\n",
       "      <td>0.112092</td>\n",
       "      <td>0.600000</td>\n",
       "      <td>0.04386</td>\n",
       "      <td>0.0</td>\n",
       "      <td>0.397959</td>\n",
       "    </tr>\n",
       "    <tr>\n",
       "      <th>1</th>\n",
       "      <td>0.561644</td>\n",
       "      <td>0.189060</td>\n",
       "      <td>0.533333</td>\n",
       "      <td>0.00000</td>\n",
       "      <td>0.0</td>\n",
       "      <td>0.397959</td>\n",
       "    </tr>\n",
       "  </tbody>\n",
       "</table>\n",
       "</div>"
      ],
      "text/plain": [
       "        age    fnlwgt  education.num  capital.gain  capital.loss  \\\n",
       "0  0.232877  0.112092       0.600000       0.04386           0.0   \n",
       "1  0.561644  0.189060       0.533333       0.00000           0.0   \n",
       "\n",
       "   hours.per.week  \n",
       "0        0.397959  \n",
       "1        0.397959  "
      ]
     },
     "metadata": {},
     "output_type": "display_data"
    }
   ],
   "source": [
    "# 민맥스 스케일링: 최대값을 1로 최소값을 0으로 하여 범주화시키는 것\n",
    "train_copy, test_copy = get_data()\n",
    "from sklearn.preprocessing import MinMaxScaler\n",
    "scaler = MinMaxScaler()\n",
    "display(train_copy[cols].head(2))\n",
    "train_copy[cols] = scaler.fit_transform(train_copy[cols])\n",
    "test_copy[cols] = scaler.transform(test_copy[cols])\n",
    "display(train_copy[cols].head(2))"
   ]
  },
  {
   "cell_type": "code",
   "execution_count": 11,
   "id": "1381fe64-ac52-443e-85c3-78d51b3fe2be",
   "metadata": {},
   "outputs": [
    {
     "data": {
      "text/html": [
       "<div>\n",
       "<style scoped>\n",
       "    .dataframe tbody tr th:only-of-type {\n",
       "        vertical-align: middle;\n",
       "    }\n",
       "\n",
       "    .dataframe tbody tr th {\n",
       "        vertical-align: top;\n",
       "    }\n",
       "\n",
       "    .dataframe thead th {\n",
       "        text-align: right;\n",
       "    }\n",
       "</style>\n",
       "<table border=\"1\" class=\"dataframe\">\n",
       "  <thead>\n",
       "    <tr style=\"text-align: right;\">\n",
       "      <th></th>\n",
       "      <th>age</th>\n",
       "      <th>fnlwgt</th>\n",
       "      <th>education.num</th>\n",
       "      <th>capital.gain</th>\n",
       "      <th>capital.loss</th>\n",
       "      <th>hours.per.week</th>\n",
       "    </tr>\n",
       "  </thead>\n",
       "  <tbody>\n",
       "    <tr>\n",
       "      <th>0</th>\n",
       "      <td>34.0</td>\n",
       "      <td>177331</td>\n",
       "      <td>10</td>\n",
       "      <td>4386</td>\n",
       "      <td>0</td>\n",
       "      <td>40.0</td>\n",
       "    </tr>\n",
       "    <tr>\n",
       "      <th>1</th>\n",
       "      <td>58.0</td>\n",
       "      <td>290661</td>\n",
       "      <td>9</td>\n",
       "      <td>0</td>\n",
       "      <td>0</td>\n",
       "      <td>40.0</td>\n",
       "    </tr>\n",
       "  </tbody>\n",
       "</table>\n",
       "</div>"
      ],
      "text/plain": [
       "    age  fnlwgt  education.num  capital.gain  capital.loss  hours.per.week\n",
       "0  34.0  177331             10          4386             0            40.0\n",
       "1  58.0  290661              9             0             0            40.0"
      ]
     },
     "metadata": {},
     "output_type": "display_data"
    },
    {
     "data": {
      "text/html": [
       "<div>\n",
       "<style scoped>\n",
       "    .dataframe tbody tr th:only-of-type {\n",
       "        vertical-align: middle;\n",
       "    }\n",
       "\n",
       "    .dataframe tbody tr th {\n",
       "        vertical-align: top;\n",
       "    }\n",
       "\n",
       "    .dataframe thead th {\n",
       "        text-align: right;\n",
       "    }\n",
       "</style>\n",
       "<table border=\"1\" class=\"dataframe\">\n",
       "  <thead>\n",
       "    <tr style=\"text-align: right;\">\n",
       "      <th></th>\n",
       "      <th>age</th>\n",
       "      <th>fnlwgt</th>\n",
       "      <th>education.num</th>\n",
       "      <th>capital.gain</th>\n",
       "      <th>capital.loss</th>\n",
       "      <th>hours.per.week</th>\n",
       "    </tr>\n",
       "  </thead>\n",
       "  <tbody>\n",
       "    <tr>\n",
       "      <th>0</th>\n",
       "      <td>-0.335121</td>\n",
       "      <td>-0.117705</td>\n",
       "      <td>-0.031462</td>\n",
       "      <td>0.440247</td>\n",
       "      <td>-0.216056</td>\n",
       "      <td>-0.035121</td>\n",
       "    </tr>\n",
       "    <tr>\n",
       "      <th>1</th>\n",
       "      <td>1.428590</td>\n",
       "      <td>0.956277</td>\n",
       "      <td>-0.420430</td>\n",
       "      <td>-0.146298</td>\n",
       "      <td>-0.216056</td>\n",
       "      <td>-0.035121</td>\n",
       "    </tr>\n",
       "  </tbody>\n",
       "</table>\n",
       "</div>"
      ],
      "text/plain": [
       "        age    fnlwgt  education.num  capital.gain  capital.loss  \\\n",
       "0 -0.335121 -0.117705      -0.031462      0.440247     -0.216056   \n",
       "1  1.428590  0.956277      -0.420430     -0.146298     -0.216056   \n",
       "\n",
       "   hours.per.week  \n",
       "0       -0.035121  \n",
       "1       -0.035121  "
      ]
     },
     "metadata": {},
     "output_type": "display_data"
    }
   ],
   "source": [
    "# 스탠더드 스케일링: 평균을 0, 표준편차를 1로 변환\n",
    "train_copy, test_copy = get_data()\n",
    "\n",
    "from sklearn.preprocessing import StandardScaler\n",
    "scaler = StandardScaler()\n",
    "display(train_copy[cols].head(2))\n",
    "train_copy[cols] = scaler.fit_transform(train_copy[cols])\n",
    "test_copy[cols] = scaler.transform(test_copy[cols])\n",
    "display(train_copy[cols].head(2))"
   ]
  },
  {
   "cell_type": "code",
   "execution_count": 12,
   "id": "6649b0d8-9584-444c-ba33-ad4dad29813d",
   "metadata": {},
   "outputs": [
    {
     "data": {
      "text/html": [
       "<div>\n",
       "<style scoped>\n",
       "    .dataframe tbody tr th:only-of-type {\n",
       "        vertical-align: middle;\n",
       "    }\n",
       "\n",
       "    .dataframe tbody tr th {\n",
       "        vertical-align: top;\n",
       "    }\n",
       "\n",
       "    .dataframe thead th {\n",
       "        text-align: right;\n",
       "    }\n",
       "</style>\n",
       "<table border=\"1\" class=\"dataframe\">\n",
       "  <thead>\n",
       "    <tr style=\"text-align: right;\">\n",
       "      <th></th>\n",
       "      <th>age</th>\n",
       "      <th>fnlwgt</th>\n",
       "      <th>education.num</th>\n",
       "      <th>capital.gain</th>\n",
       "      <th>capital.loss</th>\n",
       "      <th>hours.per.week</th>\n",
       "    </tr>\n",
       "  </thead>\n",
       "  <tbody>\n",
       "    <tr>\n",
       "      <th>0</th>\n",
       "      <td>34.0</td>\n",
       "      <td>177331</td>\n",
       "      <td>10</td>\n",
       "      <td>4386</td>\n",
       "      <td>0</td>\n",
       "      <td>40.0</td>\n",
       "    </tr>\n",
       "    <tr>\n",
       "      <th>1</th>\n",
       "      <td>58.0</td>\n",
       "      <td>290661</td>\n",
       "      <td>9</td>\n",
       "      <td>0</td>\n",
       "      <td>0</td>\n",
       "      <td>40.0</td>\n",
       "    </tr>\n",
       "  </tbody>\n",
       "</table>\n",
       "</div>"
      ],
      "text/plain": [
       "    age  fnlwgt  education.num  capital.gain  capital.loss  hours.per.week\n",
       "0  34.0  177331             10          4386             0            40.0\n",
       "1  58.0  290661              9             0             0            40.0"
      ]
     },
     "metadata": {},
     "output_type": "display_data"
    },
    {
     "data": {
      "text/html": [
       "<div>\n",
       "<style scoped>\n",
       "    .dataframe tbody tr th:only-of-type {\n",
       "        vertical-align: middle;\n",
       "    }\n",
       "\n",
       "    .dataframe tbody tr th {\n",
       "        vertical-align: top;\n",
       "    }\n",
       "\n",
       "    .dataframe thead th {\n",
       "        text-align: right;\n",
       "    }\n",
       "</style>\n",
       "<table border=\"1\" class=\"dataframe\">\n",
       "  <thead>\n",
       "    <tr style=\"text-align: right;\">\n",
       "      <th></th>\n",
       "      <th>age</th>\n",
       "      <th>fnlwgt</th>\n",
       "      <th>education.num</th>\n",
       "      <th>capital.gain</th>\n",
       "      <th>capital.loss</th>\n",
       "      <th>hours.per.week</th>\n",
       "    </tr>\n",
       "  </thead>\n",
       "  <tbody>\n",
       "    <tr>\n",
       "      <th>0</th>\n",
       "      <td>-0.15</td>\n",
       "      <td>-0.008711</td>\n",
       "      <td>0.000000</td>\n",
       "      <td>4386.0</td>\n",
       "      <td>0.0</td>\n",
       "      <td>0.0</td>\n",
       "    </tr>\n",
       "    <tr>\n",
       "      <th>1</th>\n",
       "      <td>1.05</td>\n",
       "      <td>0.941438</td>\n",
       "      <td>-0.333333</td>\n",
       "      <td>0.0</td>\n",
       "      <td>0.0</td>\n",
       "      <td>0.0</td>\n",
       "    </tr>\n",
       "  </tbody>\n",
       "</table>\n",
       "</div>"
      ],
      "text/plain": [
       "    age    fnlwgt  education.num  capital.gain  capital.loss  hours.per.week\n",
       "0 -0.15 -0.008711       0.000000        4386.0           0.0             0.0\n",
       "1  1.05  0.941438      -0.333333           0.0           0.0             0.0"
      ]
     },
     "metadata": {},
     "output_type": "display_data"
    }
   ],
   "source": [
    "# 로버스트 스케일링: 각 값의 중앙값을 빼고 1사분위수와 3사분위수의 차이로 나누는 방법\n",
    "from sklearn.preprocessing import RobustScaler\n",
    "scaler = RobustScaler()\n",
    "display(train[cols].head(2))\n",
    "train[cols] = scaler.fit_transform(train[cols])\n",
    "test[cols] = scaler.transform(test[cols])\n",
    "display(train[cols].head(2))"
   ]
  },
  {
   "cell_type": "markdown",
   "id": "863d17fe-8749-480a-be1e-6ecda26de825",
   "metadata": {},
   "source": [
    "## 검증 데이터 나누기"
   ]
  },
  {
   "cell_type": "code",
   "execution_count": 13,
   "id": "045e77b4-3abb-4437-af5e-4fcb05367662",
   "metadata": {},
   "outputs": [
    {
     "data": {
      "text/plain": [
       "((23440, 15), (5861, 15), (23440,), (5861,))"
      ]
     },
     "execution_count": 13,
     "metadata": {},
     "output_type": "execute_result"
    }
   ],
   "source": [
    "from sklearn.model_selection import train_test_split\n",
    "\n",
    "X_train, X_val, y_train, y_val = train_test_split(train, y_train, test_size=0.2, random_state=0)\n",
    "X_train.shape, X_val.shape, y_train.shape, y_val.shape\n"
   ]
  },
  {
   "cell_type": "markdown",
   "id": "098e4a15-3642-4e5c-af43-198a65fc462c",
   "metadata": {},
   "source": [
    "<b>occur mistake 1: y_train의 income(target)도 같이 원핫인코딩됐다</b>"
   ]
  },
  {
   "cell_type": "markdown",
   "id": "245f783c-b511-4337-bc87-a5282ca25f18",
   "metadata": {},
   "source": [
    "## 머신러닝 학습 및 평가"
   ]
  },
  {
   "cell_type": "markdown",
   "id": "e977e64e-9ded-4393-bf8e-6ddcaabd1190",
   "metadata": {},
   "source": [
    "### RandomForest"
   ]
  },
  {
   "cell_type": "code",
   "execution_count": 14,
   "id": "549718d7-dccd-4af9-90f8-b9b45ba35229",
   "metadata": {},
   "outputs": [
    {
     "name": "stdout",
     "output_type": "stream",
     "text": [
      "['<=50K' '>50K']\n"
     ]
    },
    {
     "data": {
      "text/plain": [
       "array([[1.  , 0.  ],\n",
       "       [1.  , 0.  ],\n",
       "       [0.9 , 0.1 ],\n",
       "       [0.63, 0.37],\n",
       "       [1.  , 0.  ],\n",
       "       [0.99, 0.01],\n",
       "       [0.98, 0.02],\n",
       "       [0.94, 0.06],\n",
       "       [0.12, 0.88],\n",
       "       [0.88, 0.12]])"
      ]
     },
     "execution_count": 14,
     "metadata": {},
     "output_type": "execute_result"
    }
   ],
   "source": [
    "# predict_proba: 각 레이블에 속할 확률 구함, 2차원 형태, ROC_AUC\n",
    "# predict: 예측된 각 레이블을 반환(<=50K, >50K), 1차원 형태, 정확도/F1 Score/정밀도/재현율\n",
    "# 칼럼 순서 확인은 rf.classes_\n",
    "# random_state를 0으로 고정하면 같은 결과값을 반환하도록 해줌\n",
    "from sklearn.ensemble import RandomForestClassifier\n",
    "rf = RandomForestClassifier(random_state = 0)\n",
    "rf.fit(X_train, y_train)\n",
    "pred = rf.predict_proba(X_val)\n",
    "\n",
    "# 0번째 열은 <=50K확률, 1번째 열은 <50K확률\n",
    "print(rf.classes_)\n",
    "pred[:10]"
   ]
  },
  {
   "cell_type": "markdown",
   "id": "bc68793c-fe6b-4021-bcc8-a2b73ef827f9",
   "metadata": {},
   "source": [
    "### 머신러닝 평가 지표(분류모델)"
   ]
  },
  {
   "cell_type": "code",
   "execution_count": 15,
   "id": "a138a134-2a22-472e-a5da-44dc656da8bf",
   "metadata": {},
   "outputs": [
    {
     "name": "stdout",
     "output_type": "stream",
     "text": [
      "roc_auc: 0.9173623004487484\n"
     ]
    }
   ],
   "source": [
    "# ROC_AUC\n",
    "from sklearn.metrics import roc_auc_score\n",
    "roc_auc = roc_auc_score(y_val, pred[:,1])\n",
    "print('roc_auc:', roc_auc)"
   ]
  },
  {
   "cell_type": "code",
   "execution_count": 16,
   "id": "ec8dcd14-cd8c-483e-9dd2-813cb31367c8",
   "metadata": {},
   "outputs": [
    {
     "name": "stdout",
     "output_type": "stream",
     "text": [
      "accuracy_score: 0.8694761986009213\n"
     ]
    }
   ],
   "source": [
    "# 정확도\n",
    "# 1에 가까울수록 좋음\n",
    "pred = rf.predict(X_val)\n",
    "pred[:10]\n",
    "\n",
    "from sklearn.metrics import accuracy_score\n",
    "accuracy = accuracy_score(y_val, pred)\n",
    "print('accuracy_score:', accuracy)"
   ]
  },
  {
   "cell_type": "code",
   "execution_count": 17,
   "id": "c5fd93ae-6f97-406b-8963-e4fe2f2b01f7",
   "metadata": {},
   "outputs": [
    {
     "name": "stdout",
     "output_type": "stream",
     "text": [
      "f1_score: 0.6926476496584973\n"
     ]
    }
   ],
   "source": [
    "# F1 Score\n",
    "# 값이 클수록 좋음\n",
    "from sklearn.metrics import f1_score\n",
    "f1 = f1_score(y_val, pred, pos_label = '>50K')\n",
    "print('f1_score:', f1)"
   ]
  },
  {
   "cell_type": "markdown",
   "id": "2012d97f-6166-4e3c-9e9f-4b906216f47c",
   "metadata": {},
   "source": [
    "### Light GBM"
   ]
  },
  {
   "cell_type": "code",
   "execution_count": 18,
   "id": "0b4e0a22-0648-4aa8-b009-e8a5c7ff91b3",
   "metadata": {},
   "outputs": [
    {
     "name": "stdout",
     "output_type": "stream",
     "text": [
      "[LightGBM] [Info] Number of positive: 5670, number of negative: 17770\n",
      "[LightGBM] [Info] Auto-choosing row-wise multi-threading, the overhead of testing was 0.000809 seconds.\n",
      "You can set `force_row_wise=true` to remove the overhead.\n",
      "And if memory is not enough, you can set `force_col_wise=true`.\n",
      "[LightGBM] [Info] Total Bins 941\n",
      "[LightGBM] [Info] Number of data points in the train set: 23440, number of used features: 15\n",
      "[LightGBM] [Info] [binary:BoostFromScore]: pavg=0.241894 -> initscore=-1.142323\n",
      "[LightGBM] [Info] Start training from score -1.142323\n",
      "roc_auc: 0.9279535666686397\n",
      "accuracy_score: 0.8771540692714553\n",
      "f1_score: 0.7158642462509865\n"
     ]
    }
   ],
   "source": [
    "import lightgbm as lgb\n",
    "lgbmc = lgb.LGBMClassifier(random_state=0, verbose=1)\n",
    "lgbmc.fit(X_train, y_train)\n",
    "pred = lgbmc.predict_proba(X_val)\n",
    "\n",
    "roc_auc = roc_auc_score(y_val, pred[:,1])\n",
    "print('roc_auc:', roc_auc)\n",
    "\n",
    "pred = lgbmc.predict(X_val)\n",
    "accuracy = accuracy_score(y_val, pred)\n",
    "print('accuracy_score:', accuracy)\n",
    "\n",
    "f1 = f1_score(y_val, pred, pos_label='>50K')\n",
    "print('f1_score:', f1)"
   ]
  },
  {
   "cell_type": "markdown",
   "id": "ebdc85e1-b2ae-499b-8126-566523162567",
   "metadata": {},
   "source": [
    "## 예측 및 결과 파일 생성"
   ]
  },
  {
   "cell_type": "code",
   "execution_count": 24,
   "id": "aef98e72-9e06-461f-b9e4-04cac7504eb5",
   "metadata": {},
   "outputs": [],
   "source": [
    "pred = lgbmc.predict_proba(test)\n",
    "pred\n",
    "\n",
    "submit = pd.DataFrame({'pred' : pred[:,1]})\n",
    "submit.to_csv('result_ex2.csv', index = False)"
   ]
  },
  {
   "cell_type": "code",
   "execution_count": null,
   "id": "90ab4a22-9139-41aa-89e9-d90f43182c14",
   "metadata": {},
   "outputs": [],
   "source": []
  }
 ],
 "metadata": {
  "kernelspec": {
   "display_name": "Python 3 (ipykernel)",
   "language": "python",
   "name": "python3"
  },
  "language_info": {
   "codemirror_mode": {
    "name": "ipython",
    "version": 3
   },
   "file_extension": ".py",
   "mimetype": "text/x-python",
   "name": "python",
   "nbconvert_exporter": "python",
   "pygments_lexer": "ipython3",
   "version": "3.13.2"
  }
 },
 "nbformat": 4,
 "nbformat_minor": 5
}
