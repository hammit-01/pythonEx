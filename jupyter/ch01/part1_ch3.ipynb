{
 "cells": [
  {
   "cell_type": "markdown",
   "id": "9c3bbf67-8095-44e4-b727-a13ddf10f44a",
   "metadata": {},
   "source": [
    "\"http://raw.githubusercontent.com/lovedlim/bigdata_analyst_cert/main/part1/ch3/~\""
   ]
  },
  {
   "cell_type": "code",
   "execution_count": 8,
   "id": "62797c50-c638-40cd-9dfc-9ba0975c96a8",
   "metadata": {},
   "outputs": [
    {
     "name": "stdout",
     "output_type": "stream",
     "text": [
      "5924\n"
     ]
    },
    {
     "name": "stderr",
     "output_type": "stream",
     "text": [
      "C:\\Users\\ASUS\\AppData\\Local\\Temp\\ipykernel_35060\\3429118426.py:7: FutureWarning: A value is trying to be set on a copy of a DataFrame or Series through chained assignment using an inplace method.\n",
      "The behavior will change in pandas 3.0. This inplace method will never work because the intermediate object on which we are setting values always behaves as a copy.\n",
      "\n",
      "For example, when doing 'df[col].method(value, inplace=True)', try using 'df.method({col: value}, inplace=True)' or df[col] = df[col].method(value) instead, to perform the operation inplace on the original object.\n",
      "\n",
      "\n",
      "  df['views'].fillna(min, inplace = True)\n"
     ]
    }
   ],
   "source": [
    "#ch3 1\n",
    "import pandas as pd\n",
    "df = pd.read_csv(\"http://raw.githubusercontent.com/lovedlim/bigdata_analyst_cert/main/part1/ch3/type1_data1.csv\")\n",
    "cond = df['f5'] != 0\n",
    "df = df[cond]\n",
    "min = df['views'].min()\n",
    "df['views'].fillna(min, inplace = True)\n",
    "median = df['views'].median()\n",
    "print(int(median))"
   ]
  },
  {
   "cell_type": "code",
   "execution_count": 12,
   "id": "0e3283f3-ad7e-46e9-80ec-e819c6bdf477",
   "metadata": {},
   "outputs": [
    {
     "data": {
      "text/plain": [
       "17"
      ]
     },
     "execution_count": 12,
     "metadata": {},
     "output_type": "execute_result"
    }
   ],
   "source": [
    "#ch3 2\n",
    "df = pd.read_csv(\"http://raw.githubusercontent.com/lovedlim/bigdata_analyst_cert/main/part1/ch3/type1_data1.csv\")\n",
    "df = df['subscribed'].value_counts()\n",
    "int(df.index[0][-2:])"
   ]
  },
  {
   "cell_type": "code",
   "execution_count": null,
   "id": "bb0786d1-2be8-4a34-a9b6-ce9573d27479",
   "metadata": {},
   "outputs": [],
   "source": []
  }
 ],
 "metadata": {
  "kernelspec": {
   "display_name": "Python 3 (ipykernel)",
   "language": "python",
   "name": "python3"
  },
  "language_info": {
   "codemirror_mode": {
    "name": "ipython",
    "version": 3
   },
   "file_extension": ".py",
   "mimetype": "text/x-python",
   "name": "python",
   "nbconvert_exporter": "python",
   "pygments_lexer": "ipython3",
   "version": "3.13.2"
  }
 },
 "nbformat": 4,
 "nbformat_minor": 5
}
