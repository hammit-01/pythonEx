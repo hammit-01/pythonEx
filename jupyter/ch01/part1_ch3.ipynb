{
 "cells": [
  {
   "cell_type": "markdown",
   "id": "9c3bbf67-8095-44e4-b727-a13ddf10f44a",
   "metadata": {},
   "source": [
    "\"http://raw.githubusercontent.com/lovedlim/bigdata_analyst_cert/main/part1/ch3/~\""
   ]
  },
  {
   "cell_type": "code",
   "execution_count": null,
   "id": "62797c50-c638-40cd-9dfc-9ba0975c96a8",
   "metadata": {},
   "outputs": [],
   "source": [
    "import pandas as pd\n",
    "df = pd.read_csv(\"http://raw.githubusercontent.com/lovedlim/bigdata_analyst_cert/main/part1/ch3/type1_data1.csv\")\n",
    "df"
   ]
  }
 ],
 "metadata": {
  "kernelspec": {
   "display_name": "Python 3 (ipykernel)",
   "language": "python",
   "name": "python3"
  },
  "language_info": {
   "codemirror_mode": {
    "name": "ipython",
    "version": 3
   },
   "file_extension": ".py",
   "mimetype": "text/x-python",
   "name": "python",
   "nbconvert_exporter": "python",
   "pygments_lexer": "ipython3",
   "version": "3.13.2"
  }
 },
 "nbformat": 4,
 "nbformat_minor": 5
}
