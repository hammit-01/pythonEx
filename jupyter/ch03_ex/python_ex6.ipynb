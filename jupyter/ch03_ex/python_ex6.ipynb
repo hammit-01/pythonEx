{
 "cells": [
  {
   "cell_type": "markdown",
   "id": "abc87c78-5723-4b6d-b13c-aed4f234b3e8",
   "metadata": {},
   "source": [
    "# part 3 chapter 1\n",
    "#### p-value가 0.05보다 작으면 귀무가설 기각\n",
    "#### p-value가 0.05보다 크면 귀무가설 채택"
   ]
  },
  {
   "cell_type": "code",
   "execution_count": 9,
   "id": "9a28df4f-a4de-461e-b09b-c8bb0906f013",
   "metadata": {},
   "outputs": [],
   "source": [
    "import pandas as pd\n",
    "df = pd.DataFrame({\n",
    "    'weights': [122,121,120,119,125,115,121,118,117,127,123,129,119,124,114,126,122,124,121,116,120,123,127,118,122,117,124,125,123,2532]})"
   ]
  },
  {
   "cell_type": "markdown",
   "id": "7d713dca-6bfb-47f5-bfd0-05ba98d7cb17",
   "metadata": {},
   "source": [
    "## 단일 표본 검정"
   ]
  },
  {
   "cell_type": "markdown",
   "id": "2040748d-d4b5-484c-8e7c-538a6f2943d9",
   "metadata": {},
   "source": [
    "### t-test"
   ]
  },
  {
   "cell_type": "code",
   "execution_count": 13,
   "id": "e992ccd7-0c7f-4564-8454-cea016d45b7f",
   "metadata": {},
   "outputs": [
    {
     "name": "stdout",
     "output_type": "stream",
     "text": [
      "t-statistic: 1.0179880333213098\n",
      "p-value: 0.31710171609322235\n"
     ]
    },
    {
     "data": {
      "text/plain": [
       "TtestResult(statistic=np.float64(1.0179880333213098), pvalue=np.float64(0.31710171609322235), df=np.int64(29))"
      ]
     },
     "execution_count": 13,
     "metadata": {},
     "output_type": "execute_result"
    }
   ],
   "source": [
    "from scipy import stats\n",
    "t_statistic, p_value = stats.ttest_1samp(df['weights'],120)\n",
    "print('t-statistic:', t_statistic)\n",
    "print('p-value:', p_value)\n",
    "\n",
    "stats.ttest_1samp(df['weights'],120)"
   ]
  },
  {
   "cell_type": "markdown",
   "id": "6b7a080a-9cd5-4590-b1db-9997d93b4134",
   "metadata": {},
   "source": [
    "### 양측 검정과 단측 검정"
   ]
  },
  {
   "cell_type": "code",
   "execution_count": 17,
   "id": "98ab5f18-fff1-4286-a883-441863dc2b60",
   "metadata": {},
   "outputs": [
    {
     "name": "stdout",
     "output_type": "stream",
     "text": [
      "TtestResult(statistic=np.float64(1.0179880333213098), pvalue=np.float64(0.31710171609322235), df=np.int64(29))\n",
      "TtestResult(statistic=np.float64(1.0179880333213098), pvalue=np.float64(0.15855085804661118), df=np.int64(29))\n",
      "TtestResult(statistic=np.float64(1.0179880333213098), pvalue=np.float64(0.8414491419533888), df=np.int64(29))\n"
     ]
    }
   ],
   "source": [
    "# 양측 검정\n",
    "print(stats.ttest_1samp(df['weights'],120,alternative='two-sided'))\n",
    "# 단측 검정\n",
    "print(stats.ttest_1samp(df['weights'],120,alternative='greater'))\n",
    "print(stats.ttest_1samp(df['weights'],120,alternative='less'))"
   ]
  },
  {
   "cell_type": "markdown",
   "id": "527d2d77-cd53-4328-88d1-ebbd416a6af8",
   "metadata": {},
   "source": [
    "## 대응 표본 검정"
   ]
  },
  {
   "cell_type": "code",
   "execution_count": 18,
   "id": "299c2a2c-8410-44c0-af2f-842815da7b89",
   "metadata": {},
   "outputs": [],
   "source": [
    "import pandas as pd\n",
    "df = pd.DataFrame({\n",
    "    'before': [85,90,92,88,86,89,83,87],\n",
    "    'after':[85.5,89.9,92.6,89.5,85.8,88.8,84.6,87.8]})"
   ]
  },
  {
   "cell_type": "code",
   "execution_count": 22,
   "id": "b0485278-ed8f-4429-8700-169f091d5473",
   "metadata": {},
   "outputs": [
    {
     "name": "stdout",
     "output_type": "stream",
     "text": [
      "TtestResult(statistic=np.float64(-2.2127749675452324), pvalue=np.float64(0.03127028733756238), df=np.int64(7))\n",
      "TtestResult(statistic=np.float64(2.2127749675452324), pvalue=np.float64(0.03127028733756238), df=np.int64(7))\n",
      "TtestResult(statistic=np.float64(2.2127749675452324), pvalue=np.float64(0.06254057467512476), df=np.int64(7))\n"
     ]
    }
   ],
   "source": [
    "from scipy import stats\n",
    "# before의 평균이 after보다 작다\n",
    "print(stats.ttest_rel(df['before'],df['after'],alternative='less'))\n",
    "# after 평균이 before보다 크다\n",
    "print(stats.ttest_rel(df['after'],df['before'],alternative='greater'))\n",
    "# 양측 검정\n",
    "print(stats.ttest_rel(df['after'],df['before']))"
   ]
  },
  {
   "cell_type": "markdown",
   "id": "2bdd6b6a-8af1-4301-856f-4da53c4f7c12",
   "metadata": {},
   "source": [
    "## 독립 표본 검정"
   ]
  },
  {
   "cell_type": "code",
   "execution_count": 24,
   "id": "5eb7dc21-e375-4ead-8eb8-ba0982653f15",
   "metadata": {},
   "outputs": [],
   "source": [
    "import pandas as pd\n",
    "class1 = [85,90,92,88,86,89,83,87]\n",
    "class2 = [80,82,88,85,84]"
   ]
  },
  {
   "cell_type": "code",
   "execution_count": 32,
   "id": "ce37276d-825c-4387-bccf-6408013a80ec",
   "metadata": {},
   "outputs": [
    {
     "name": "stdout",
     "output_type": "stream",
     "text": [
      "TtestResult(statistic=np.float64(2.1818699281825236), pvalue=np.float64(0.059589330071355334), df=np.float64(8.272682358753572))\n",
      "TtestResult(statistic=np.float64(2.2108140580092237), pvalue=np.float64(0.9754257110537391), df=np.float64(11.0))\n",
      "TtestResult(statistic=np.float64(2.2108140580092237), pvalue=np.float64(0.02457428894626093), df=np.float64(11.0))\n"
     ]
    }
   ],
   "source": [
    "from scipy.stats import ttest_ind\n",
    "# 양측 검정\n",
    "ttest_ind(class1,class2)\n",
    "# 모분산이 다를 때 양측 검정\n",
    "print(stats.ttest_ind(class1,class2,equal_var=False))\n",
    "# 단측 검정 class1 < class2\n",
    "print(stats.ttest_ind(class1,class2,equal_var=True,alternative='less'))\n",
    "# 단측 검정 class1 > class2 p-vaalue가 0.05보다 낮으면 아래 식(대립가설)이 맞는거임\n",
    "print(stats.ttest_ind(class1,class2,equal_var=True,alternative='greater'))"
   ]
  },
  {
   "cell_type": "code",
   "execution_count": null,
   "id": "b0eb3044-6aa7-4f8e-8f18-364a36cf67f4",
   "metadata": {},
   "outputs": [],
   "source": []
  }
 ],
 "metadata": {
  "kernelspec": {
   "display_name": "Python 3 (ipykernel)",
   "language": "python",
   "name": "python3"
  },
  "language_info": {
   "codemirror_mode": {
    "name": "ipython",
    "version": 3
   },
   "file_extension": ".py",
   "mimetype": "text/x-python",
   "name": "python",
   "nbconvert_exporter": "python",
   "pygments_lexer": "ipython3",
   "version": "3.13.2"
  }
 },
 "nbformat": 4,
 "nbformat_minor": 5
}
