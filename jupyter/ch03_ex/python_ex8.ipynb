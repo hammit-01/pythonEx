{
 "cells": [
  {
   "cell_type": "markdown",
   "id": "5f1fb036-f305-47af-8af8-7a0492b985de",
   "metadata": {},
   "source": [
    "# part 3 chapter 3"
   ]
  },
  {
   "cell_type": "markdown",
   "id": "17a3bc72-9b54-4a1f-aa98-2a8627fa7786",
   "metadata": {},
   "source": [
    "## 적합도 검정"
   ]
  },
  {
   "cell_type": "code",
   "execution_count": 2,
   "id": "c5d2e5dd-5f14-4108-ba89-1deb5cfafb75",
   "metadata": {},
   "outputs": [
    {
     "name": "stdout",
     "output_type": "stream",
     "text": [
      "Power_divergenceResult(statistic=np.float64(7.142857142857142), pvalue=np.float64(0.028115659748972056))\n"
     ]
    }
   ],
   "source": [
    "from scipy import stats\n",
    "observed = [150,120,30]\n",
    "expected = [0.5*300,0.35*300,0.15*300]\n",
    "print(stats.chisquare(observed,expected))"
   ]
  },
  {
   "cell_type": "markdown",
   "id": "d328f7b8-7ad2-4506-8bb6-3c5b3ac5c4db",
   "metadata": {},
   "source": [
    "## 독립성 검정"
   ]
  },
  {
   "cell_type": "code",
   "execution_count": 4,
   "id": "4bc0e37e-eba0-4632-84d2-b19352aa0a52",
   "metadata": {},
   "outputs": [
    {
     "data": {
      "text/html": [
       "<div>\n",
       "<style scoped>\n",
       "    .dataframe tbody tr th:only-of-type {\n",
       "        vertical-align: middle;\n",
       "    }\n",
       "\n",
       "    .dataframe tbody tr th {\n",
       "        vertical-align: top;\n",
       "    }\n",
       "\n",
       "    .dataframe thead th {\n",
       "        text-align: right;\n",
       "    }\n",
       "</style>\n",
       "<table border=\"1\" class=\"dataframe\">\n",
       "  <thead>\n",
       "    <tr style=\"text-align: right;\">\n",
       "      <th></th>\n",
       "      <th>좋아함</th>\n",
       "      <th>좋아하지 않음</th>\n",
       "    </tr>\n",
       "  </thead>\n",
       "  <tbody>\n",
       "    <tr>\n",
       "      <th>남자</th>\n",
       "      <td>80</td>\n",
       "      <td>30</td>\n",
       "    </tr>\n",
       "    <tr>\n",
       "      <th>여자</th>\n",
       "      <td>90</td>\n",
       "      <td>10</td>\n",
       "    </tr>\n",
       "  </tbody>\n",
       "</table>\n",
       "</div>"
      ],
      "text/plain": [
       "    좋아함  좋아하지 않음\n",
       "남자   80       30\n",
       "여자   90       10"
      ]
     },
     "execution_count": 4,
     "metadata": {},
     "output_type": "execute_result"
    }
   ],
   "source": [
    "# 교차표 데이터가 주어졌을 때\n",
    "import pandas as pd\n",
    "df = pd.DataFrame({'좋아함': [80,90],\n",
    "                   '좋아하지 않음':[30,10]},\n",
    "                  index=['남자','여자'])\n",
    "df"
   ]
  },
  {
   "cell_type": "code",
   "execution_count": 5,
   "id": "1c7ad7cd-1e4d-4ba8-9370-fdb44f90d104",
   "metadata": {},
   "outputs": [
    {
     "name": "stdout",
     "output_type": "stream",
     "text": [
      "Chi2ContingencyResult(statistic=np.float64(9.045792112299468), pvalue=np.float64(0.0026330012530379632), dof=1, expected_freq=array([[89.04761905, 20.95238095],\n",
      "       [80.95238095, 19.04761905]]))\n"
     ]
    }
   ],
   "source": [
    "from scipy.stats import chi2_contingency\n",
    "print(chi2_contingency(df))"
   ]
  },
  {
   "cell_type": "code",
   "execution_count": 8,
   "id": "7b8bc52c-0aa1-4c04-a2d2-a6d04a9cd367",
   "metadata": {},
   "outputs": [
    {
     "data": {
      "text/html": [
       "<div>\n",
       "<style scoped>\n",
       "    .dataframe tbody tr th:only-of-type {\n",
       "        vertical-align: middle;\n",
       "    }\n",
       "\n",
       "    .dataframe tbody tr th {\n",
       "        vertical-align: top;\n",
       "    }\n",
       "\n",
       "    .dataframe thead th {\n",
       "        text-align: right;\n",
       "    }\n",
       "</style>\n",
       "<table border=\"1\" class=\"dataframe\">\n",
       "  <thead>\n",
       "    <tr style=\"text-align: right;\">\n",
       "      <th>운동</th>\n",
       "      <th>좋아하지 않음</th>\n",
       "      <th>좋아함</th>\n",
       "    </tr>\n",
       "    <tr>\n",
       "      <th>성별</th>\n",
       "      <th></th>\n",
       "      <th></th>\n",
       "    </tr>\n",
       "  </thead>\n",
       "  <tbody>\n",
       "    <tr>\n",
       "      <th>남자</th>\n",
       "      <td>30</td>\n",
       "      <td>80</td>\n",
       "    </tr>\n",
       "    <tr>\n",
       "      <th>여자</th>\n",
       "      <td>10</td>\n",
       "      <td>90</td>\n",
       "    </tr>\n",
       "  </tbody>\n",
       "</table>\n",
       "</div>"
      ],
      "text/plain": [
       "운동  좋아하지 않음  좋아함\n",
       "성별              \n",
       "남자       30   80\n",
       "여자       10   90"
      ]
     },
     "execution_count": 8,
     "metadata": {},
     "output_type": "execute_result"
    }
   ],
   "source": [
    "# raw가 주어졌을 때\n",
    "import pandas as pd\n",
    "data = {\n",
    "    '성별':['남자']*110+['여자']*100,\n",
    "    '운동':['좋아함']*80+['좋아하지 않음']*30+['좋아함']*90+['좋아하지 않음']*10}\n",
    "df = pd.DataFrame(data)\n",
    "df = pd.crosstab(df['성별'], df['운동'])\n",
    "df"
   ]
  },
  {
   "cell_type": "code",
   "execution_count": 9,
   "id": "03c8160b-6775-4db8-9fee-5b910a598eb8",
   "metadata": {},
   "outputs": [
    {
     "name": "stdout",
     "output_type": "stream",
     "text": [
      "Chi2ContingencyResult(statistic=np.float64(9.045792112299468), pvalue=np.float64(0.0026330012530379632), dof=1, expected_freq=array([[20.95238095, 89.04761905],\n",
      "       [19.04761905, 80.95238095]]))\n"
     ]
    }
   ],
   "source": [
    "from scipy.stats import chi2_contingency\n",
    "print(chi2_contingency(df))"
   ]
  },
  {
   "cell_type": "markdown",
   "id": "91c2d489-7099-4d6d-b7c8-608dcc2d4902",
   "metadata": {},
   "source": [
    "## 동질성 검정"
   ]
  },
  {
   "cell_type": "code",
   "execution_count": 11,
   "id": "9bd59e96-de5a-4c56-a6c0-d716921a3a00",
   "metadata": {},
   "outputs": [
    {
     "name": "stdout",
     "output_type": "stream",
     "text": [
      "Chi2ContingencyResult(statistic=np.float64(7.520833333333334), pvalue=np.float64(0.006098945931214352), dof=1, expected_freq=array([[40., 60.],\n",
      "       [40., 60.]]))\n"
     ]
    }
   ],
   "source": [
    "# 교차표 데이터가 주어졌을 때\n",
    "import pandas as pd\n",
    "from scipy import stats\n",
    "df = pd.DataFrame([[50,50],[30,70]])\n",
    "print(stats.chi2_contingency(df))"
   ]
  },
  {
   "cell_type": "code",
   "execution_count": 12,
   "id": "a37c8ad4-1903-4510-8308-102b79919c36",
   "metadata": {},
   "outputs": [
    {
     "data": {
      "text/html": [
       "<div>\n",
       "<style scoped>\n",
       "    .dataframe tbody tr th:only-of-type {\n",
       "        vertical-align: middle;\n",
       "    }\n",
       "\n",
       "    .dataframe tbody tr th {\n",
       "        vertical-align: top;\n",
       "    }\n",
       "\n",
       "    .dataframe thead th {\n",
       "        text-align: right;\n",
       "    }\n",
       "</style>\n",
       "<table border=\"1\" class=\"dataframe\">\n",
       "  <thead>\n",
       "    <tr style=\"text-align: right;\">\n",
       "      <th>동아리가입여부</th>\n",
       "      <th>가입</th>\n",
       "      <th>미가입</th>\n",
       "    </tr>\n",
       "    <tr>\n",
       "      <th>학과</th>\n",
       "      <th></th>\n",
       "      <th></th>\n",
       "    </tr>\n",
       "  </thead>\n",
       "  <tbody>\n",
       "    <tr>\n",
       "      <th>컴퓨터공학과</th>\n",
       "      <td>30</td>\n",
       "      <td>70</td>\n",
       "    </tr>\n",
       "    <tr>\n",
       "      <th>통계학과</th>\n",
       "      <td>50</td>\n",
       "      <td>50</td>\n",
       "    </tr>\n",
       "  </tbody>\n",
       "</table>\n",
       "</div>"
      ],
      "text/plain": [
       "동아리가입여부  가입  미가입\n",
       "학과              \n",
       "컴퓨터공학과   30   70\n",
       "통계학과     50   50"
      ]
     },
     "execution_count": 12,
     "metadata": {},
     "output_type": "execute_result"
    }
   ],
   "source": [
    "# raw 데이터가 주어졌을 때\n",
    "import pandas as pd\n",
    "data = {\n",
    "    '학과':['통계학과']*100+['컴퓨터공학과']*100,\n",
    "    '동아리가입여부':['가입']*50+['미가입']*50+['가입']*30+['미가입']*70}\n",
    "df = pd.DataFrame(data)\n",
    "df = pd.crosstab(df['학과'],df['동아리가입여부'])\n",
    "df"
   ]
  },
  {
   "cell_type": "code",
   "execution_count": 13,
   "id": "fe280169-7a7e-49d4-996c-ad5f79154a88",
   "metadata": {},
   "outputs": [
    {
     "name": "stdout",
     "output_type": "stream",
     "text": [
      "Chi2ContingencyResult(statistic=np.float64(7.520833333333334), pvalue=np.float64(0.006098945931214352), dof=1, expected_freq=array([[40., 60.],\n",
      "       [40., 60.]]))\n"
     ]
    }
   ],
   "source": [
    "from scipy import stats\n",
    "print(stats.chi2_contingency(df))"
   ]
  },
  {
   "cell_type": "code",
   "execution_count": null,
   "id": "a4a99d1d-0e27-41ff-a23e-2eab64e4e6ff",
   "metadata": {},
   "outputs": [],
   "source": []
  }
 ],
 "metadata": {
  "kernelspec": {
   "display_name": "Python 3 (ipykernel)",
   "language": "python",
   "name": "python3"
  },
  "language_info": {
   "codemirror_mode": {
    "name": "ipython",
    "version": 3
   },
   "file_extension": ".py",
   "mimetype": "text/x-python",
   "name": "python",
   "nbconvert_exporter": "python",
   "pygments_lexer": "ipython3",
   "version": "3.13.2"
  }
 },
 "nbformat": 4,
 "nbformat_minor": 5
}
