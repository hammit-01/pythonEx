{
 "cells": [
  {
   "cell_type": "markdown",
   "id": "a023ad68-5cea-4297-9597-a07364ca6121",
   "metadata": {},
   "source": [
    "# part 3 chapter 2"
   ]
  },
  {
   "cell_type": "markdown",
   "id": "b0f3459c-5d37-419f-8f07-ac1d890d8f7b",
   "metadata": {},
   "source": [
    "## 일원 분산 분석"
   ]
  },
  {
   "cell_type": "code",
   "execution_count": 1,
   "id": "c9390aaf-2cde-4187-a503-19e0b9a0b4e8",
   "metadata": {},
   "outputs": [],
   "source": [
    "import pandas as pd\n",
    "df = pd.DataFrame({\n",
    "    'A':[10.5,11.3,10.8,9.6,11.1,10.2,10.9,11.4,10.5,10.3],\n",
    "    'B':[11.9,12.4,12.1,13.2,12.5,11.8,12.2,12.9,12.4,12.3],\n",
    "    'C':[11.2,11.7,11.6,10.9,11.3,11.1,10.8,11.5,11.4,11.0],\n",
    "    'D':[9.8,9.4,9.1,9.5,9.6,9.9,9.2,9.7,9.3,9.4]})"
   ]
  },
  {
   "cell_type": "code",
   "execution_count": 4,
   "id": "3774895b-2e83-4a42-905d-7ce87d092595",
   "metadata": {},
   "outputs": [
    {
     "name": "stdout",
     "output_type": "stream",
     "text": [
      "======정규성 검정======\n",
      "ShapiroResult(statistic=np.float64(0.9649054066073813), pvalue=np.float64(0.8400161543468654))\n",
      "ShapiroResult(statistic=np.float64(0.9468040874196029), pvalue=np.float64(0.6308700692815115))\n",
      "ShapiroResult(statistic=np.float64(0.9701646110856055), pvalue=np.float64(0.892367306190296))\n",
      "ShapiroResult(statistic=np.float64(0.9752339025839644), pvalue=np.float64(0.9346854448707653))\n",
      "\n",
      "======등분산성 검정======\n",
      "LeveneResult(statistic=np.float64(1.9355354288758708), pvalue=np.float64(0.14127835331346628))\n",
      "\n",
      "======일원 분산 분석======\n",
      "F_onewayResult(statistic=np.float64(89.12613851177174), pvalue=np.float64(1.0018381522523723e-16))\n"
     ]
    }
   ],
   "source": [
    "from scipy import stats\n",
    "print('======정규성 검정======')\n",
    "# 모든 그룹에 대한 p-value가 0.05보다 크므로 모든 데이터가 정규 분포를 따른다\n",
    "print(stats.shapiro(df['A']))\n",
    "print(stats.shapiro(df['B']))\n",
    "print(stats.shapiro(df['C']))\n",
    "print(stats.shapiro(df['D']))\n",
    "print('\\n======등분산성 검정======')\n",
    "# p-value가 0.05보다 작으므로 모든 분산이 동일하지 않다\n",
    "print(stats.levene(df['A'],df['B'],df['C'],df['D']))\n",
    "print('\\n======일원 분산 분석======')\n",
    "# p-value가 0.05보다 작으므로 적어도 두 그룹 간의 평균 성장량에는 차이가 있다\n",
    "print(stats.f_oneway(df['A'],df['B'],df['C'],df['D']))"
   ]
  },
  {
   "cell_type": "code",
   "execution_count": 7,
   "id": "9fd896ba-b16d-46f9-8f1a-e8e2d5982940",
   "metadata": {},
   "outputs": [
    {
     "name": "stdout",
     "output_type": "stream",
     "text": [
      "            df    sum_sq    mean_sq          F        PR(>F)\n",
      "C(비료)      3.0  43.21875  14.406250  89.126139  1.001838e-16\n",
      "Residual  36.0   5.81900   0.161639        NaN           NaN\n"
     ]
    }
   ],
   "source": [
    "# ols 활용\n",
    "import pandas as pd\n",
    "df = pd.read_csv(\"http://raw.githubusercontent.com/lovedlim/bigdata_analyst_cert/main/part3/ch2/fertilizer.csv\")\n",
    "from statsmodels.formula.api import ols\n",
    "from statsmodels.stats.anova import anova_lm\n",
    "model = ols('성장 ~ C(비료)',df).fit()\n",
    "print(anova_lm(model))"
   ]
  },
  {
   "cell_type": "markdown",
   "id": "2065999d-38b1-4c21-8a96-07ca49868d8a",
   "metadata": {},
   "source": [
    "## 이원 분산 분석"
   ]
  },
  {
   "cell_type": "code",
   "execution_count": 8,
   "id": "4936e749-b7d2-4981-8f60-78946213d464",
   "metadata": {},
   "outputs": [],
   "source": [
    "import pandas as pd\n",
    "df = pd.read_csv(\"http://raw.githubusercontent.com/lovedlim/bigdata_analyst_cert/main/part3/ch2/tree.csv\")"
   ]
  },
  {
   "cell_type": "code",
   "execution_count": 9,
   "id": "247c4569-ba41-4955-b4a9-0df4934b4074",
   "metadata": {},
   "outputs": [
    {
     "name": "stdout",
     "output_type": "stream",
     "text": [
      "             df       sum_sq      mean_sq          F        PR(>F)\n",
      "나무          3.0  4783.353938  1594.451313  18.391274  9.016693e-10\n",
      "비료          1.0   873.322002   873.322002  10.073374  1.942421e-03\n",
      "나무:비료       3.0   394.801585   131.600528   1.517952  2.137666e-01\n",
      "Residual  112.0  9709.960792    86.696078        NaN           NaN\n"
     ]
    }
   ],
   "source": [
    "import statsmodels.api as sm\n",
    "from statsmodels.formula.api import ols\n",
    "\n",
    "model = ols('성장률 ~ 나무 + 비료 + 나무:비료',data=df).fit()\n",
    "anova_table = sm.stats.anova_lm(model)\n",
    "print(anova_table)"
   ]
  },
  {
   "cell_type": "code",
   "execution_count": 11,
   "id": "89d7ee24-97b3-4fc8-a6f3-5fcde08a6912",
   "metadata": {},
   "outputs": [
    {
     "name": "stdout",
     "output_type": "stream",
     "text": [
      "                df       sum_sq      mean_sq          F        PR(>F)\n",
      "C(나무)          3.0  4783.353938  1594.451313  18.855528  6.600012e-10\n",
      "C(비료)          2.0  1127.924259   563.962129   6.669256  1.857612e-03\n",
      "C(나무):C(비료)    6.0   717.520672   119.586779   1.414199  2.157357e-01\n",
      "Residual     108.0  9132.639448    84.561476        NaN           NaN\n"
     ]
    }
   ],
   "source": [
    "import statsmodels.api as sm\n",
    "from statsmodels.formula.api import ols\n",
    "# 숫자로 표현된 범주형 변수 분석시 C()를 사용해 명확히 범주형으로 처리하던가 안전하게 모두 C()처리 (단, 종속변수는 연속형 변수임으로 제외)\n",
    "model = ols('성장률 ~ C(나무) + C(비료) + C(나무):C(비료)',data=df).fit()\n",
    "anova_table = sm.stats.anova_lm(model)\n",
    "print(anova_table)"
   ]
  },
  {
   "cell_type": "code",
   "execution_count": null,
   "id": "97ce2e9c-683f-4b8a-9a93-8baecd2e8f16",
   "metadata": {},
   "outputs": [],
   "source": []
  }
 ],
 "metadata": {
  "kernelspec": {
   "display_name": "Python 3 (ipykernel)",
   "language": "python",
   "name": "python3"
  },
  "language_info": {
   "codemirror_mode": {
    "name": "ipython",
    "version": 3
   },
   "file_extension": ".py",
   "mimetype": "text/x-python",
   "name": "python",
   "nbconvert_exporter": "python",
   "pygments_lexer": "ipython3",
   "version": "3.13.2"
  }
 },
 "nbformat": 4,
 "nbformat_minor": 5
}
